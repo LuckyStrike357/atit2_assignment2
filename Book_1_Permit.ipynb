{
 "cells": [
  {
   "cell_type": "markdown",
   "metadata": {},
   "source": [
    "# Task San Fransisco Permit"
   ]
  },
  {
   "cell_type": "markdown",
   "metadata": {},
   "source": [
    "## Task A Cleaning\n",
    "- Download the Building_Permits.csv from Kaggle \n",
    "- Clean the San Francisco Building permit dataset \n",
    "- Use imputation were necessary\n"
   ]
  },
  {
   "cell_type": "markdown",
   "metadata": {},
   "source": [
    "## Task B Exploration\n",
    "- Explore the data. Which columns correlate strongly with the \"Current Status\" column? How do other columns correlate to each other? \n",
    "- Describe problems with \"Current Status\" as a target column to predict. Can you construct a better target column?\n"
   ]
  },
  {
   "cell_type": "markdown",
   "metadata": {},
   "source": [
    "## Task C Prediction\n",
    "-  Predict the \"Current Status\" or your substitute column from B from the other columns.\n",
    "- Drop unessecary columns \n",
    "- Construct one-hot encoded dummy columns \n",
    "- Choose the Predictor of your choice\n"
   ]
  },
  {
   "cell_type": "markdown",
   "metadata": {},
   "source": [
    "## Task D Challenges\n",
    "- Describe challenges you faced during A, B and C and how you solved it.\n"
   ]
  },
  {
   "cell_type": "code",
   "execution_count": null,
   "metadata": {},
   "outputs": [],
   "source": []
  }
 ],
 "metadata": {
  "kernelspec": {
   "display_name": "Python 3",
   "language": "python",
   "name": "python3"
  },
  "language_info": {
   "codemirror_mode": {
    "name": "ipython",
    "version": 3
   },
   "file_extension": ".py",
   "mimetype": "text/x-python",
   "name": "python",
   "nbconvert_exporter": "python",
   "pygments_lexer": "ipython3",
   "version": "3.7.3"
  }
 },
 "nbformat": 4,
 "nbformat_minor": 2
}
