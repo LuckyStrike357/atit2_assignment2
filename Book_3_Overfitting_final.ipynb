{
 "cells": [
  {
   "cell_type": "markdown",
   "metadata": {},
   "source": [
    "# Neuroal Network Overfitting"
   ]
  },
  {
   "cell_type": "markdown",
   "metadata": {},
   "source": [
    "## Task F\n",
    "- Train a neural net and overﬁt it to cifar. \n",
    "- Don't use any regularization. \n",
    "- Don't use my crappy implementation, but use keras. Use the train and test splits in the data do evaluate the model.\n"
   ]
  },
  {
   "cell_type": "markdown",
   "metadata": {},
   "source": [
    "### Import"
   ]
  },
  {
   "cell_type": "code",
   "execution_count": 1,
   "metadata": {},
   "outputs": [
    {
     "name": "stderr",
     "output_type": "stream",
     "text": [
      "Using TensorFlow backend.\n"
     ]
    }
   ],
   "source": [
    "import keras\n",
    "from keras.datasets import cifar10\n",
    "from keras.models import Sequential\n",
    "from keras.layers import Dense, Dropout, Flatten, Lambda\n",
    "from keras.layers import Conv2D, MaxPooling2D"
   ]
  },
  {
   "cell_type": "markdown",
   "metadata": {},
   "source": [
    "### Load Data"
   ]
  },
  {
   "cell_type": "code",
   "execution_count": 2,
   "metadata": {},
   "outputs": [],
   "source": [
    "(x_train, y_train), (x_test, y_test) = cifar10.load_data()"
   ]
  },
  {
   "cell_type": "code",
   "execution_count": 3,
   "metadata": {},
   "outputs": [
    {
     "name": "stdout",
     "output_type": "stream",
     "text": [
      "x_train shape: (50000, 32, 32, 3)\n",
      "50000 train samples\n",
      "10000 test samples\n"
     ]
    }
   ],
   "source": [
    "print('x_train shape:', x_train.shape)\n",
    "print(x_train.shape[0], 'train samples')\n",
    "print(x_test.shape[0], 'test samples')"
   ]
  },
  {
   "cell_type": "markdown",
   "metadata": {},
   "source": [
    "### Cleaning and Normalization"
   ]
  },
  {
   "cell_type": "code",
   "execution_count": 4,
   "metadata": {},
   "outputs": [],
   "source": [
    "x_train = x_train.astype('float32')\n",
    "x_test = x_test.astype('float32')\n",
    "x_train /= 255\n",
    "x_test /= 255"
   ]
  },
  {
   "cell_type": "markdown",
   "metadata": {},
   "source": [
    "### Convert class vectors to binary class matrices"
   ]
  },
  {
   "cell_type": "code",
   "execution_count": 6,
   "metadata": {},
   "outputs": [],
   "source": [
    "# convert class vectors to binary class matrices -> one hot \n",
    "y_train = keras.utils.to_categorical(y_train, 10)\n",
    "y_test = keras.utils.to_categorical(y_test, 10)"
   ]
  },
  {
   "cell_type": "markdown",
   "metadata": {},
   "source": [
    "### Build Model"
   ]
  },
  {
   "cell_type": "code",
   "execution_count": 7,
   "metadata": {},
   "outputs": [
    {
     "name": "stdout",
     "output_type": "stream",
     "text": [
      "WARNING:tensorflow:From C:\\ProgramData\\Anaconda3\\lib\\site-packages\\tensorflow\\python\\framework\\op_def_library.py:263: colocate_with (from tensorflow.python.framework.ops) is deprecated and will be removed in a future version.\n",
      "Instructions for updating:\n",
      "Colocations handled automatically by placer.\n",
      "_________________________________________________________________\n",
      "Layer (type)                 Output Shape              Param #   \n",
      "=================================================================\n",
      "conv2d_1 (Conv2D)            (None, 32, 32, 32)        896       \n",
      "_________________________________________________________________\n",
      "max_pooling2d_1 (MaxPooling2 (None, 16, 16, 32)        0         \n",
      "_________________________________________________________________\n",
      "conv2d_2 (Conv2D)            (None, 16, 16, 64)        18496     \n",
      "_________________________________________________________________\n",
      "max_pooling2d_2 (MaxPooling2 (None, 8, 8, 64)          0         \n",
      "_________________________________________________________________\n",
      "conv2d_3 (Conv2D)            (None, 8, 8, 64)          36928     \n",
      "_________________________________________________________________\n",
      "flatten_1 (Flatten)          (None, 4096)              0         \n",
      "_________________________________________________________________\n",
      "dense_1 (Dense)              (None, 64)                262208    \n",
      "_________________________________________________________________\n",
      "dense_2 (Dense)              (None, 10)                650       \n",
      "=================================================================\n",
      "Total params: 319,178\n",
      "Trainable params: 319,178\n",
      "Non-trainable params: 0\n",
      "_________________________________________________________________\n"
     ]
    }
   ],
   "source": [
    "#Creating a sequential model\n",
    "model = Sequential()\n",
    "\n",
    "#Convolutional layers\n",
    "model.add( Conv2D(filters = 32, kernel_size = (3,3), padding = 'same', use_bias = 'true', activation = 'relu', input_shape =(32,32,3) ) )\n",
    "\n",
    "model.add( MaxPooling2D(pool_size=(2,2)) )\n",
    "\n",
    "model.add( Conv2D(filters = 64, kernel_size = (3,3), padding = 'same', activation = 'tanh' ) )\n",
    "\n",
    "model.add( MaxPooling2D(pool_size=(2,2)) )\n",
    "\n",
    "model.add( Conv2D(filters = 64, kernel_size = (3,3), padding = 'same', activation = 'relu' ) )\n",
    "\n",
    "#Converting data\n",
    "model.add(Flatten())  \n",
    "\n",
    "#Fully connected layers\n",
    "\n",
    "model.add(Dense(units=64, activation='relu'))\n",
    "\n",
    "#Output layer\n",
    "model.add(Dense(units=10, activation='softmax'))\n",
    "\n",
    "#Finalizing and preparing the model for training\n",
    "model.compile(loss='categorical_crossentropy',\n",
    "              optimizer='adam',\n",
    "              metrics=['accuracy'])\n",
    "\n",
    "#Showing the summary\n",
    "model.summary()"
   ]
  },
  {
   "cell_type": "markdown",
   "metadata": {},
   "source": [
    "### Train Model"
   ]
  },
  {
   "cell_type": "code",
   "execution_count": 8,
   "metadata": {},
   "outputs": [
    {
     "name": "stdout",
     "output_type": "stream",
     "text": [
      "WARNING:tensorflow:From C:\\ProgramData\\Anaconda3\\lib\\site-packages\\tensorflow\\python\\ops\\math_ops.py:3066: to_int32 (from tensorflow.python.ops.math_ops) is deprecated and will be removed in a future version.\n",
      "Instructions for updating:\n",
      "Use tf.cast instead.\n",
      "Train on 50000 samples, validate on 10000 samples\n",
      "Epoch 1/20\n",
      "50000/50000 [==============================] - 43s 865us/step - loss: 1.7366 - acc: 0.3753 - val_loss: 1.4397 - val_acc: 0.4845\n",
      "Epoch 2/20\n",
      "50000/50000 [==============================] - 48s 963us/step - loss: 1.3582 - acc: 0.5169 - val_loss: 1.3021 - val_acc: 0.5288\n",
      "Epoch 3/20\n",
      "50000/50000 [==============================] - 48s 963us/step - loss: 1.1803 - acc: 0.5829 - val_loss: 1.1763 - val_acc: 0.5838\n",
      "Epoch 4/20\n",
      "50000/50000 [==============================] - 47s 943us/step - loss: 1.0845 - acc: 0.6183 - val_loss: 1.0603 - val_acc: 0.6288\n",
      "Epoch 5/20\n",
      "50000/50000 [==============================] - 46s 923us/step - loss: 1.0006 - acc: 0.6520 - val_loss: 1.0119 - val_acc: 0.6436\n",
      "Epoch 6/20\n",
      "50000/50000 [==============================] - 47s 944us/step - loss: 0.9366 - acc: 0.6753 - val_loss: 0.9899 - val_acc: 0.6509\n",
      "Epoch 7/20\n",
      "50000/50000 [==============================] - 50s 1ms/step - loss: 0.8817 - acc: 0.6955 - val_loss: 0.9428 - val_acc: 0.6663\n",
      "Epoch 8/20\n",
      "50000/50000 [==============================] - 51s 1ms/step - loss: 0.8317 - acc: 0.7120 - val_loss: 0.9214 - val_acc: 0.6799\n",
      "Epoch 9/20\n",
      "50000/50000 [==============================] - 49s 981us/step - loss: 0.7893 - acc: 0.7263 - val_loss: 0.8971 - val_acc: 0.6878\n",
      "Epoch 10/20\n",
      "50000/50000 [==============================] - 47s 948us/step - loss: 0.7522 - acc: 0.7393 - val_loss: 0.8740 - val_acc: 0.6926\n",
      "Epoch 11/20\n",
      "50000/50000 [==============================] - 47s 950us/step - loss: 0.7257 - acc: 0.7487 - val_loss: 0.8754 - val_acc: 0.6972\n",
      "Epoch 12/20\n",
      "50000/50000 [==============================] - 48s 959us/step - loss: 0.6895 - acc: 0.7614 - val_loss: 0.8448 - val_acc: 0.7125\n",
      "Epoch 13/20\n",
      "50000/50000 [==============================] - 47s 948us/step - loss: 0.6605 - acc: 0.7697 - val_loss: 0.8687 - val_acc: 0.7018\n",
      "Epoch 14/20\n",
      "50000/50000 [==============================] - 48s 962us/step - loss: 0.6271 - acc: 0.7855 - val_loss: 0.8564 - val_acc: 0.7098\n",
      "Epoch 15/20\n",
      "50000/50000 [==============================] - 48s 959us/step - loss: 0.5996 - acc: 0.7922 - val_loss: 0.8474 - val_acc: 0.7165\n",
      "Epoch 16/20\n",
      "50000/50000 [==============================] - 48s 950us/step - loss: 0.5657 - acc: 0.8063 - val_loss: 0.8441 - val_acc: 0.7222\n",
      "Epoch 17/20\n",
      "50000/50000 [==============================] - 48s 960us/step - loss: 0.5440 - acc: 0.8124 - val_loss: 0.8483 - val_acc: 0.7191\n",
      "Epoch 18/20\n",
      "50000/50000 [==============================] - 47s 948us/step - loss: 0.5165 - acc: 0.8225 - val_loss: 0.8557 - val_acc: 0.7222\n",
      "Epoch 19/20\n",
      "50000/50000 [==============================] - 47s 939us/step - loss: 0.4926 - acc: 0.8314 - val_loss: 0.8470 - val_acc: 0.7251\n",
      "Epoch 20/20\n",
      "50000/50000 [==============================] - 48s 968us/step - loss: 0.4687 - acc: 0.8391 - val_loss: 0.9232 - val_acc: 0.7119\n"
     ]
    }
   ],
   "source": [
    "train1 = model.fit(x_train, y_train,\n",
    "          batch_size=500,\n",
    "          epochs=20,\n",
    "          verbose=1, #how progress is shown\n",
    "          validation_data=(x_test, y_test)\n",
    "         )\n",
    "\n"
   ]
  },
  {
   "cell_type": "code",
   "execution_count": 9,
   "metadata": {},
   "outputs": [
    {
     "name": "stdout",
     "output_type": "stream",
     "text": [
      "Train on 50000 samples, validate on 10000 samples\n",
      "Epoch 1/17\n",
      "50000/50000 [==============================] - 57s 1ms/step - loss: 0.5417 - acc: 0.8101 - val_loss: 0.8823 - val_acc: 0.7096\n",
      "Epoch 2/17\n",
      "50000/50000 [==============================] - 57s 1ms/step - loss: 0.4728 - acc: 0.8343 - val_loss: 0.8933 - val_acc: 0.7182\n",
      "Epoch 3/17\n",
      "50000/50000 [==============================] - 58s 1ms/step - loss: 0.4309 - acc: 0.8502 - val_loss: 0.8905 - val_acc: 0.7215\n",
      "Epoch 4/17\n",
      "50000/50000 [==============================] - 56s 1ms/step - loss: 0.4035 - acc: 0.8600 - val_loss: 0.9247 - val_acc: 0.7190\n",
      "Epoch 5/17\n",
      "50000/50000 [==============================] - 57s 1ms/step - loss: 0.3657 - acc: 0.8731 - val_loss: 1.0045 - val_acc: 0.7055\n",
      "Epoch 6/17\n",
      "50000/50000 [==============================] - 57s 1ms/step - loss: 0.3391 - acc: 0.8825 - val_loss: 0.9620 - val_acc: 0.7191\n",
      "Epoch 7/17\n",
      "50000/50000 [==============================] - 57s 1ms/step - loss: 0.3038 - acc: 0.8944 - val_loss: 1.0172 - val_acc: 0.7171\n",
      "Epoch 8/17\n",
      "50000/50000 [==============================] - 57s 1ms/step - loss: 0.2837 - acc: 0.9029 - val_loss: 1.0504 - val_acc: 0.7136\n",
      "Epoch 9/17\n",
      "50000/50000 [==============================] - 59s 1ms/step - loss: 0.2503 - acc: 0.9142 - val_loss: 1.1097 - val_acc: 0.7104\n",
      "Epoch 10/17\n",
      "50000/50000 [==============================] - 59s 1ms/step - loss: 0.2311 - acc: 0.9197 - val_loss: 1.1445 - val_acc: 0.7156\n",
      "Epoch 11/17\n",
      "50000/50000 [==============================] - 60s 1ms/step - loss: 0.2017 - acc: 0.9306 - val_loss: 1.2079 - val_acc: 0.7019\n",
      "Epoch 12/17\n",
      "50000/50000 [==============================] - 59s 1ms/step - loss: 0.1819 - acc: 0.9380 - val_loss: 1.2952 - val_acc: 0.7008\n",
      "Epoch 13/17\n",
      "50000/50000 [==============================] - 60s 1ms/step - loss: 0.1732 - acc: 0.9418 - val_loss: 1.2970 - val_acc: 0.7065\n",
      "Epoch 14/17\n",
      "50000/50000 [==============================] - 59s 1ms/step - loss: 0.1732 - acc: 0.9396 - val_loss: 1.3415 - val_acc: 0.7018\n",
      "Epoch 15/17\n",
      "50000/50000 [==============================] - 56s 1ms/step - loss: 0.1291 - acc: 0.9573 - val_loss: 1.3858 - val_acc: 0.7101\n",
      "Epoch 16/17\n",
      "50000/50000 [==============================] - 57s 1ms/step - loss: 0.1132 - acc: 0.9632 - val_loss: 1.4459 - val_acc: 0.7122\n",
      "Epoch 17/17\n",
      "50000/50000 [==============================] - 56s 1ms/step - loss: 0.0998 - acc: 0.9684 - val_loss: 1.4955 - val_acc: 0.7052\n"
     ]
    }
   ],
   "source": [
    "train2 = model.fit(x_train, y_train,\n",
    "          batch_size=250,\n",
    "          epochs=17,\n",
    "          verbose=1, #how progress is shown\n",
    "          validation_data=(x_test, y_test)\n",
    "          )"
   ]
  },
  {
   "cell_type": "code",
   "execution_count": 10,
   "metadata": {
    "scrolled": true
   },
   "outputs": [
    {
     "name": "stdout",
     "output_type": "stream",
     "text": [
      "Train on 50000 samples, validate on 10000 samples\n",
      "Epoch 1/5\n",
      "50000/50000 [==============================] - 41s 826us/step - loss: 0.0556 - acc: 0.9864 - val_loss: 1.4853 - val_acc: 0.7190\n",
      "Epoch 2/5\n",
      "50000/50000 [==============================] - 42s 842us/step - loss: 0.0303 - acc: 0.9961 - val_loss: 1.5051 - val_acc: 0.7170\n",
      "Epoch 3/5\n",
      "50000/50000 [==============================] - 42s 847us/step - loss: 0.0256 - acc: 0.9973 - val_loss: 1.5256 - val_acc: 0.7169\n",
      "Epoch 4/5\n",
      "50000/50000 [==============================] - 42s 844us/step - loss: 0.0222 - acc: 0.9981 - val_loss: 1.5541 - val_acc: 0.7150\n",
      "Epoch 5/5\n",
      "50000/50000 [==============================] - 43s 852us/step - loss: 0.0203 - acc: 0.9985 - val_loss: 1.5791 - val_acc: 0.7163\n"
     ]
    }
   ],
   "source": [
    "train3 = model.fit(x_train, y_train,\n",
    "          batch_size=1028,\n",
    "          epochs=5,\n",
    "          verbose=1, #how progress is shown\n",
    "         validation_data=(x_test, y_test)\n",
    "          )"
   ]
  },
  {
   "cell_type": "markdown",
   "metadata": {},
   "source": [
    "### Test Model"
   ]
  },
  {
   "cell_type": "code",
   "execution_count": 11,
   "metadata": {},
   "outputs": [
    {
     "name": "stdout",
     "output_type": "stream",
     "text": [
      "Test loss: 1.579097124004364\n",
      "Test accuracy: 0.7163\n"
     ]
    }
   ],
   "source": [
    "score = model.evaluate(x_test, y_test, verbose=0)\n",
    "print('Test loss:', score[0])\n",
    "print('Test accuracy:', score[1])"
   ]
  },
  {
   "cell_type": "markdown",
   "metadata": {},
   "source": [
    "### Result"
   ]
  },
  {
   "cell_type": "code",
   "execution_count": 18,
   "metadata": {},
   "outputs": [],
   "source": [
    "a1 = round(train1.history['acc'][-1],2)\n",
    "v1 = round(train1.history['val_acc'][-1],2)\n",
    "a2 = round(train2.history['acc'][-1],2)\n",
    "v2 = round(train2.history['val_acc'][-1],2)\n",
    "a3 = round(train3.history['acc'][-1],2)\n",
    "v3 = round(train3.history['val_acc'][-1],2)"
   ]
  },
  {
   "cell_type": "code",
   "execution_count": 19,
   "metadata": {},
   "outputs": [
    {
     "name": "stdout",
     "output_type": "stream",
     "text": [
      "0.84 0.71 0.97 0.71 1.0 0.72\n"
     ]
    }
   ],
   "source": [
    "print(a1,v1,a2,v2,a3,v3)"
   ]
  },
  {
   "cell_type": "code",
   "execution_count": 20,
   "metadata": {},
   "outputs": [
    {
     "data": {
      "image/png": "[encoded data removed]",
      "text/plain": [
       "<Figure size 432x288 with 1 Axes>"
      ]
     },
     "metadata": {
      "needs_background": "light"
     },
     "output_type": "display_data"
    }
   ],
   "source": [
    "import matplotlib\n",
    "import matplotlib.pyplot as plt\n",
    "import numpy as np\n",
    "\n",
    "\n",
    "labels = ['1. train', '2. train', '3.train']\n",
    "accuracy = [a1,a2,a3]\n",
    "val_accuracy = [v1,v2,v3]\n",
    "\n",
    "x = np.arange(len(labels))  # the label locations\n",
    "width = 0.35  # the width of the bars\n",
    "\n",
    "fig, ax = plt.subplots()\n",
    "rects1 = ax.bar(x - width/2, accuracy, width, label='Accuracy')\n",
    "rects2 = ax.bar(x + width/2, val_accuracy, width, label='Validation Accuracy')\n",
    "\n",
    "# Add some text for labels, title and custom x-axis tick labels, etc.\n",
    "ax.set_ylabel('Accuracy')\n",
    "ax.set_title('Accuracy by training and dataset')\n",
    "ax.set_xticks(x)\n",
    "ax.set_xticklabels(labels)\n",
    "ax.legend()\n",
    "\n",
    "\n",
    "def autolabel(rects):\n",
    "    \"\"\"Attach a text label above each bar in *rects*, displaying its height.\"\"\"\n",
    "    for rect in rects:\n",
    "        height = rect.get_height()\n",
    "        ax.annotate('{}'.format(height),\n",
    "                    xy=(rect.get_x() + rect.get_width() / 2, height),\n",
    "                    xytext=(0, 3),  # 3 points vertical offset\n",
    "                    textcoords=\"offset points\",\n",
    "                    ha='center', va='bottom')\n",
    "\n",
    "\n",
    "autolabel(rects1)\n",
    "autolabel(rects2)\n",
    "\n",
    "fig.tight_layout()\n",
    "\n",
    "plt.show()"
   ]
  },
  {
   "cell_type": "markdown",
   "metadata": {},
   "source": [
    "This is our result"
   ]
  },
  {
   "cell_type": "code",
   "execution_count": 37,
   "metadata": {},
   "outputs": [],
   "source": [
    "train_loss = np.concatenate((train1.history['loss'], train2.history['loss'], train3.history['loss']))\n",
    "val_loss = np.concatenate((train1.history['val_loss'],train2.history['val_loss'],train3.history['val_loss']))\n",
    "train_acc = np.concatenate((train1.history['acc'], train2.history['acc'], train3.history['acc']))\n",
    "val_acc = np.concatenate((train1.history['val_acc'],train2.history['val_acc'],train3.history['val_acc']))"
   ]
  },
  {
   "cell_type": "code",
   "execution_count": 43,
   "metadata": {},
   "outputs": [
    {
     "data": {
      "image/png": "[encoded data removed]",
      "text/plain": [
       "<Figure size 432x288 with 1 Axes>"
      ]
     },
     "metadata": {},
     "output_type": "display_data"
    }
   ],
   "source": [
    "import matplotlib.pyplot as plt\n",
    "import numpy as np\n",
    "\n",
    "plt.plot(train_loss)\n",
    "plt.title(\"Training Loss\")\n",
    "plt.xlabel(\"Epoche\")\n",
    "plt.ylabel(\"Loss\")\n",
    "\n",
    "plt.show()"
   ]
  },
  {
   "cell_type": "code",
   "execution_count": 46,
   "metadata": {},
   "outputs": [
    {
     "data": {
      "image/png": "[encoded data removed]",
      "text/plain": [
       "<Figure size 432x288 with 1 Axes>"
      ]
     },
     "metadata": {},
     "output_type": "display_data"
    }
   ],
   "source": [
    "plt.plot(train_acc)\n",
    "plt.title(\"Training Accuracy\")\n",
    "plt.xlabel(\"Epoche\")\n",
    "plt.ylabel(\"Accuracy\")\n",
    "plt.show()"
   ]
  },
  {
   "cell_type": "code",
   "execution_count": 45,
   "metadata": {},
   "outputs": [
    {
     "data": {
      "image/png": "[encoded data removed]",
      "text/plain": [
       "<Figure size 432x288 with 1 Axes>"
      ]
     },
     "metadata": {},
     "output_type": "display_data"
    }
   ],
   "source": [
    "plt.plot(val_loss)\n",
    "plt.title(\"Validation Loss\")\n",
    "plt.xlabel(\"Epoche\")\n",
    "plt.ylabel(\"Loss\")\n",
    "plt.show()"
   ]
  },
  {
   "cell_type": "code",
   "execution_count": 44,
   "metadata": {},
   "outputs": [
    {
     "data": {
      "image/png": "[encoded data removed]",
      "text/plain": [
       "<Figure size 432x288 with 1 Axes>"
      ]
     },
     "metadata": {},
     "output_type": "display_data"
    }
   ],
   "source": [
    "plt.plot(val_acc)\n",
    "plt.title(\"Validation Accuracy\")\n",
    "plt.xlabel(\"Epoche\")\n",
    "plt.ylabel(\"Accuracy\")\n",
    "plt.show()"
   ]
  },
  {
   "cell_type": "markdown",
   "metadata": {},
   "source": [
    "Beweis für das Overfitting ist hier, dass der loss von val_acc zunächst sinkt, bei weiterem Training sich aber wieder erhöht.\n",
    "Nach ca. 15 Epochen ist der Validation loss am Geringsten (ca 0.85) und steigt mit weiteren Trainingsepochen wieder an (bis auf ca. 1.58 nach 40 Epochen).\n",
    "Wie man an den oben dargestellten Graphen erkennen kann, konnten wir genau das Verhalten beobachten, wie auf der Folie in der Vorlesung besprochen (hier anschließend nochmal dargestellt)."
   ]
  },
  {
   "cell_type": "markdown",
   "metadata": {},
   "source": [
    "<img src=\"graph_overfitting.JPG\" style=\"width:400px;height:400px\"/>"
   ]
  }
 ],
 "metadata": {
  "kernelspec": {
   "display_name": "Python 3",
   "language": "python",
   "name": "python3"
  },
  "language_info": {
   "codemirror_mode": {
    "name": "ipython",
    "version": 3
   },
   "file_extension": ".py",
   "mimetype": "text/x-python",
   "name": "python",
   "nbconvert_exporter": "python",
   "pygments_lexer": "ipython3",
   "version": "3.7.3"
  }
 },
 "nbformat": 4,
 "nbformat_minor": 2
}
