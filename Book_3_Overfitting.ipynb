{
 "cells": [
  {
   "cell_type": "markdown",
   "metadata": {},
   "source": [
    "# Neuroal Network Overfitting"
   ]
  },
  {
   "cell_type": "markdown",
   "metadata": {},
   "source": [
    "## Task F\n",
    "- Train a neural net and overﬁt it to cifar. \n",
    "- Don't use any regularization. \n",
    "- Don't use my crappy implementation, but use keras. Use the train and test splits in the data do evaluate the model.\n"
   ]
  },
  {
   "cell_type": "markdown",
   "metadata": {},
   "source": [
    "### Import"
   ]
  },
  {
   "cell_type": "code",
   "execution_count": 1,
   "metadata": {},
   "outputs": [
    {
     "name": "stderr",
     "output_type": "stream",
     "text": [
      "Using TensorFlow backend.\n"
     ]
    }
   ],
   "source": [
    "import keras\n",
    "from keras.datasets import cifar10\n",
    "from keras.models import Sequential\n",
    "from keras.layers import Dense, Dropout, Flatten, Lambda\n",
    "from keras.layers import Conv2D, MaxPooling2D"
   ]
  },
  {
   "cell_type": "markdown",
   "metadata": {},
   "source": [
    "### Constants"
   ]
  },
  {
   "cell_type": "code",
   "execution_count": 2,
   "metadata": {},
   "outputs": [],
   "source": [
    "#model\n",
    "\n",
    "batch_size = 400\n",
    "#num_classes = 100\n",
    "num_classes = 10\n",
    "epochs = 12\n",
    "\n",
    "# input image dimensions\n",
    "img_rows, img_cols = 32, 32"
   ]
  },
  {
   "cell_type": "markdown",
   "metadata": {},
   "source": [
    "### Load Data"
   ]
  },
  {
   "cell_type": "code",
   "execution_count": 3,
   "metadata": {},
   "outputs": [],
   "source": [
    "#(x_train, y_train), (x_test, y_test) = cifar100.load_data(label_mode='fine')\n",
    "(x_train, y_train), (x_test, y_test) = cifar10.load_data()"
   ]
  },
  {
   "cell_type": "code",
   "execution_count": 4,
   "metadata": {},
   "outputs": [
    {
     "name": "stdout",
     "output_type": "stream",
     "text": [
      "x_train shape: (50000, 32, 32, 3)\n",
      "50000 train samples\n",
      "10000 test samples\n"
     ]
    }
   ],
   "source": [
    "print('x_train shape:', x_train.shape)\n",
    "print(x_train.shape[0], 'train samples')\n",
    "print(x_test.shape[0], 'test samples')"
   ]
  },
  {
   "cell_type": "markdown",
   "metadata": {},
   "source": [
    "### Cleaning and Normalization"
   ]
  },
  {
   "cell_type": "code",
   "execution_count": null,
   "metadata": {},
   "outputs": [],
   "source": [
    "x_train = x_train.astype('float32')\n",
    "x_test = x_test.astype('float32')\n",
    "x_train /= 255\n",
    "x_test /= 255"
   ]
  },
  {
   "cell_type": "markdown",
   "metadata": {},
   "source": [
    "### Convert class vectors to binary class matrices"
   ]
  },
  {
   "cell_type": "code",
   "execution_count": 5,
   "metadata": {},
   "outputs": [],
   "source": [
    "#y_train.ravel()"
   ]
  },
  {
   "cell_type": "code",
   "execution_count": 6,
   "metadata": {},
   "outputs": [],
   "source": [
    "# convert class vectors to binary class matrices -> one hot \n",
    "y_train = keras.utils.to_categorical(y_train, num_classes)\n",
    "y_test = keras.utils.to_categorical(y_test, num_classes)"
   ]
  },
  {
   "cell_type": "code",
   "execution_count": 7,
   "metadata": {},
   "outputs": [],
   "source": [
    "input_shape = (img_rows, img_cols, 3)"
   ]
  },
  {
   "cell_type": "markdown",
   "metadata": {},
   "source": [
    "### Build Model"
   ]
  },
  {
   "cell_type": "code",
   "execution_count": 9,
   "metadata": {},
   "outputs": [
    {
     "name": "stdout",
     "output_type": "stream",
     "text": [
      "_________________________________________________________________\n",
      "Layer (type)                 Output Shape              Param #   \n",
      "=================================================================\n",
      "conv2d_5 (Conv2D)            (None, 32, 32, 32)        3488      \n",
      "_________________________________________________________________\n",
      "max_pooling2d_5 (MaxPooling2 (None, 16, 16, 32)        0         \n",
      "_________________________________________________________________\n",
      "conv2d_6 (Conv2D)            (None, 16, 16, 16)        4624      \n",
      "_________________________________________________________________\n",
      "max_pooling2d_6 (MaxPooling2 (None, 8, 8, 16)          0         \n",
      "_________________________________________________________________\n",
      "conv2d_7 (Conv2D)            (None, 8, 8, 16)          2320      \n",
      "_________________________________________________________________\n",
      "max_pooling2d_7 (MaxPooling2 (None, 4, 4, 16)          0         \n",
      "_________________________________________________________________\n",
      "conv2d_8 (Conv2D)            (None, 4, 4, 16)          2320      \n",
      "_________________________________________________________________\n",
      "max_pooling2d_8 (MaxPooling2 (None, 2, 2, 16)          0         \n",
      "_________________________________________________________________\n",
      "flatten_2 (Flatten)          (None, 64)                0         \n",
      "_________________________________________________________________\n",
      "dense_4 (Dense)              (None, 200)               13000     \n",
      "_________________________________________________________________\n",
      "dense_5 (Dense)              (None, 100)               20100     \n",
      "_________________________________________________________________\n",
      "dense_6 (Dense)              (None, 10)                1010      \n",
      "=================================================================\n",
      "Total params: 46,862\n",
      "Trainable params: 46,862\n",
      "Non-trainable params: 0\n",
      "_________________________________________________________________\n"
     ]
    }
   ],
   "source": [
    "#Creating a sequential model\n",
    "model = Sequential()\n",
    "\n",
    "#Convolutional layers\n",
    "model.add( Conv2D(filters = 32, kernel_size = (6,6), padding = 'same', use_bias = 'true', activation = 'relu', input_shape =(32,32,3) ) )\n",
    "\n",
    "model.add( MaxPooling2D(pool_size=(2,2)) )\n",
    "\n",
    "model.add( Conv2D(filters = 16, kernel_size = (3,3), padding = 'same', activation = 'tanh' ) )\n",
    "\n",
    "model.add( MaxPooling2D(pool_size=(2,2)) )\n",
    "\n",
    "model.add( Conv2D(filters = 16, kernel_size = (3,3), padding = 'same', activation = 'relu' ) )\n",
    "\n",
    "model.add( MaxPooling2D(pool_size=(2,2)) )\n",
    "\n",
    "model.add( Conv2D(filters = 16, kernel_size = (3,3), padding = 'same', activation = 'tanh' ) )\n",
    "\n",
    "model.add( MaxPooling2D(pool_size=(2,2)) )\n",
    "\n",
    "#Converting data\n",
    "model.add(Flatten(input_shape=(32,32)))  \n",
    "\n",
    "#Fully connected layers\n",
    "\n",
    "model.add(Dense(units=200, activation='relu'))\n",
    "\n",
    "model.add(Dense(units=100, activation='tanh'))\n",
    "\n",
    "\n",
    "#Output layer\n",
    "model.add(Dense(units=10, activation='softmax'))\n",
    "\n",
    "#Finalizing and preparing the model for training\n",
    "model.compile(loss='categorical_crossentropy',\n",
    "              optimizer='adam',\n",
    "              metrics=['accuracy'])\n",
    "\n",
    "#Showing the summary\n",
    "model.summary()"
   ]
  },
  {
   "cell_type": "markdown",
   "metadata": {},
   "source": [
    "### Train Model"
   ]
  },
  {
   "cell_type": "code",
   "execution_count": 10,
   "metadata": {},
   "outputs": [
    {
     "name": "stdout",
     "output_type": "stream",
     "text": [
      "WARNING:tensorflow:From C:\\ProgramData\\Anaconda3\\lib\\site-packages\\tensorflow\\python\\ops\\math_ops.py:3066: to_int32 (from tensorflow.python.ops.math_ops) is deprecated and will be removed in a future version.\n",
      "Instructions for updating:\n",
      "Use tf.cast instead.\n",
      "Train on 50000 samples, validate on 10000 samples\n",
      "Epoch 1/20\n",
      "50000/50000 [==============================] - 31s 612us/step - loss: 1.9646 - acc: 0.2768 - val_loss: 1.7247 - val_acc: 0.3666\n",
      "Epoch 2/20\n",
      "50000/50000 [==============================] - 31s 613us/step - loss: 1.7097 - acc: 0.3761 - val_loss: 1.6679 - val_acc: 0.3889\n",
      "Epoch 3/20\n",
      "50000/50000 [==============================] - 31s 618us/step - loss: 1.6128 - acc: 0.4108 - val_loss: 1.5663 - val_acc: 0.4273\n",
      "Epoch 4/20\n",
      "50000/50000 [==============================] - 35s 700us/step - loss: 1.5565 - acc: 0.4349 - val_loss: 1.5129 - val_acc: 0.4420\n",
      "Epoch 5/20\n",
      "50000/50000 [==============================] - 33s 654us/step - loss: 1.5102 - acc: 0.4511 - val_loss: 1.4723 - val_acc: 0.4634\n",
      "Epoch 6/20\n",
      "50000/50000 [==============================] - 33s 665us/step - loss: 1.4902 - acc: 0.4582 - val_loss: 1.4984 - val_acc: 0.4600\n",
      "Epoch 7/20\n",
      "50000/50000 [==============================] - 33s 664us/step - loss: 1.4435 - acc: 0.4764 - val_loss: 1.4275 - val_acc: 0.4817\n",
      "Epoch 8/20\n",
      "50000/50000 [==============================] - 32s 631us/step - loss: 1.4376 - acc: 0.4805 - val_loss: 1.4368 - val_acc: 0.4748\n",
      "Epoch 9/20\n",
      "50000/50000 [==============================] - 32s 637us/step - loss: 1.4017 - acc: 0.4929 - val_loss: 1.4393 - val_acc: 0.4759\n",
      "Epoch 10/20\n",
      "50000/50000 [==============================] - 31s 626us/step - loss: 1.3845 - acc: 0.5000 - val_loss: 1.3964 - val_acc: 0.4940\n",
      "Epoch 11/20\n",
      "50000/50000 [==============================] - 32s 631us/step - loss: 1.3689 - acc: 0.5067 - val_loss: 1.3782 - val_acc: 0.4944\n",
      "Epoch 12/20\n",
      "50000/50000 [==============================] - 32s 637us/step - loss: 1.3533 - acc: 0.5084 - val_loss: 1.3653 - val_acc: 0.5069\n",
      "Epoch 13/20\n",
      "50000/50000 [==============================] - 32s 637us/step - loss: 1.3432 - acc: 0.5163 - val_loss: 1.3707 - val_acc: 0.5007\n",
      "Epoch 14/20\n",
      "50000/50000 [==============================] - 32s 633us/step - loss: 1.3245 - acc: 0.5222 - val_loss: 1.3476 - val_acc: 0.5101\n",
      "Epoch 15/20\n",
      "50000/50000 [==============================] - 32s 642us/step - loss: 1.2981 - acc: 0.5322 - val_loss: 1.3240 - val_acc: 0.5203\n",
      "Epoch 16/20\n",
      "50000/50000 [==============================] - 32s 646us/step - loss: 1.2861 - acc: 0.5374 - val_loss: 1.3492 - val_acc: 0.5077\n",
      "Epoch 17/20\n",
      "50000/50000 [==============================] - 32s 638us/step - loss: 1.2906 - acc: 0.5345 - val_loss: 1.3124 - val_acc: 0.5245\n",
      "Epoch 18/20\n",
      "50000/50000 [==============================] - 31s 625us/step - loss: 1.2593 - acc: 0.5474 - val_loss: 1.3143 - val_acc: 0.5162\n",
      "Epoch 19/20\n",
      "50000/50000 [==============================] - 31s 626us/step - loss: 1.2607 - acc: 0.5465 - val_loss: 1.2922 - val_acc: 0.5298\n",
      "Epoch 20/20\n",
      "50000/50000 [==============================] - 32s 633us/step - loss: 1.2564 - acc: 0.5491 - val_loss: 1.3082 - val_acc: 0.5228\n"
     ]
    },
    {
     "data": {
      "text/plain": [
       "<keras.callbacks.History at 0x2119b4f7c50>"
      ]
     },
     "execution_count": 10,
     "metadata": {},
     "output_type": "execute_result"
    }
   ],
   "source": [
    "model.fit(x_train, y_train,\n",
    "          batch_size=500,\n",
    "          epochs=20,\n",
    "          verbose=1, #how progress is shown\n",
    "         # validation_data=(x_test, y_test)\n",
    "         )\n",
    "\n"
   ]
  },
  {
   "cell_type": "code",
   "execution_count": null,
   "metadata": {},
   "outputs": [],
   "source": [
    "model.fit(x_train, y_train,\n",
    "          batch_size=250,\n",
    "          epochs=17,\n",
    "          verbose=1, #how progress is shown\n",
    "          validation_data=(x_test, y_test))"
   ]
  },
  {
   "cell_type": "code",
   "execution_count": null,
   "metadata": {
    "scrolled": true
   },
   "outputs": [],
   "source": [
    "model.fit(x_train, y_train,\n",
    "          batch_size=128,\n",
    "          epochs=12,\n",
    "          verbose=1, #how progress is shown\n",
    "          validation_data=(x_test, y_test))"
   ]
  },
  {
   "cell_type": "markdown",
   "metadata": {},
   "source": [
    "### Test Model"
   ]
  },
  {
   "cell_type": "code",
   "execution_count": null,
   "metadata": {},
   "outputs": [],
   "source": [
    "score = model.evaluate(x_test, y_test, verbose=0)\n",
    "print('Test loss:', score[0])\n",
    "print('Test accuracy:', score[1])"
   ]
  },
  {
   "cell_type": "code",
   "execution_count": null,
   "metadata": {},
   "outputs": [],
   "source": [
    "66 und 64\n",
    "\n",
    "zweimal tainieren -> 73 und 67 \n",
    "71 und 66\n",
    "\n",
    "conv3d"
   ]
  },
  {
   "cell_type": "code",
   "execution_count": null,
   "metadata": {},
   "outputs": [],
   "source": []
  }
 ],
 "metadata": {
  "kernelspec": {
   "display_name": "Python 3",
   "language": "python",
   "name": "python3"
  },
  "language_info": {
   "codemirror_mode": {
    "name": "ipython",
    "version": 3
   },
   "file_extension": ".py",
   "mimetype": "text/x-python",
   "name": "python",
   "nbconvert_exporter": "python",
   "pygments_lexer": "ipython3",
   "version": "3.7.3"
  }
 },
 "nbformat": 4,
 "nbformat_minor": 2
}
