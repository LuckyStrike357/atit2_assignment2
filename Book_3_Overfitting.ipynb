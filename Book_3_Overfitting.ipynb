{
 "cells": [
  {
   "cell_type": "markdown",
   "metadata": {},
   "source": [
    "# Neuroal Network Overfitting"
   ]
  },
  {
   "cell_type": "markdown",
   "metadata": {},
   "source": [
    "## Task F\n",
    "- Train a neural net and overﬁt it to cifar. \n",
    "- Don't use any regularization. \n",
    "- Don't use my crappy implementation, but use keras. Use the train and test splits in the data do evaluate the model.\n"
   ]
  },
  {
   "cell_type": "markdown",
   "metadata": {},
   "source": [
    "### Import"
   ]
  },
  {
   "cell_type": "code",
   "execution_count": 1,
   "metadata": {},
   "outputs": [
    {
     "name": "stderr",
     "output_type": "stream",
     "text": [
      "Using TensorFlow backend.\n"
     ]
    }
   ],
   "source": [
    "import keras\n",
    "from keras.datasets import cifar10\n",
    "from keras.models import Sequential\n",
    "from keras.layers import Dense, Dropout, Flatten, Lambda\n",
    "from keras.layers import Conv2D, MaxPooling2D"
   ]
  },
  {
   "cell_type": "markdown",
   "metadata": {},
   "source": [
    "### Load Data"
   ]
  },
  {
   "cell_type": "code",
   "execution_count": 2,
   "metadata": {},
   "outputs": [],
   "source": [
    "(x_train, y_train), (x_test, y_test) = cifar10.load_data()"
   ]
  },
  {
   "cell_type": "code",
   "execution_count": 3,
   "metadata": {},
   "outputs": [
    {
     "name": "stdout",
     "output_type": "stream",
     "text": [
      "x_train shape: (50000, 32, 32, 3)\n",
      "50000 train samples\n",
      "10000 test samples\n"
     ]
    }
   ],
   "source": [
    "print('x_train shape:', x_train.shape)\n",
    "print(x_train.shape[0], 'train samples')\n",
    "print(x_test.shape[0], 'test samples')"
   ]
  },
  {
   "cell_type": "markdown",
   "metadata": {},
   "source": [
    "### Cleaning and Normalization"
   ]
  },
  {
   "cell_type": "code",
   "execution_count": 4,
   "metadata": {},
   "outputs": [],
   "source": [
    "x_train = x_train.astype('float32')\n",
    "x_test = x_test.astype('float32')\n",
    "x_train /= 255\n",
    "x_test /= 255"
   ]
  },
  {
   "cell_type": "markdown",
   "metadata": {},
   "source": [
    "### Convert class vectors to binary class matrices"
   ]
  },
  {
   "cell_type": "code",
   "execution_count": 5,
   "metadata": {},
   "outputs": [],
   "source": [
    "# convert class vectors to binary class matrices -> one hot \n",
    "y_train = keras.utils.to_categorical(y_train, 10)\n",
    "y_test = keras.utils.to_categorical(y_test, 10)"
   ]
  },
  {
   "cell_type": "markdown",
   "metadata": {},
   "source": [
    "### Build Model"
   ]
  },
  {
   "cell_type": "code",
   "execution_count": 6,
   "metadata": {},
   "outputs": [
    {
     "name": "stdout",
     "output_type": "stream",
     "text": [
      "WARNING:tensorflow:From C:\\ProgramData\\Anaconda3\\lib\\site-packages\\tensorflow\\python\\framework\\op_def_library.py:263: colocate_with (from tensorflow.python.framework.ops) is deprecated and will be removed in a future version.\n",
      "Instructions for updating:\n",
      "Colocations handled automatically by placer.\n",
      "_________________________________________________________________\n",
      "Layer (type)                 Output Shape              Param #   \n",
      "=================================================================\n",
      "conv2d_1 (Conv2D)            (None, 32, 32, 32)        896       \n",
      "_________________________________________________________________\n",
      "max_pooling2d_1 (MaxPooling2 (None, 16, 16, 32)        0         \n",
      "_________________________________________________________________\n",
      "conv2d_2 (Conv2D)            (None, 16, 16, 64)        18496     \n",
      "_________________________________________________________________\n",
      "max_pooling2d_2 (MaxPooling2 (None, 8, 8, 64)          0         \n",
      "_________________________________________________________________\n",
      "conv2d_3 (Conv2D)            (None, 8, 8, 64)          36928     \n",
      "_________________________________________________________________\n",
      "flatten_1 (Flatten)          (None, 4096)              0         \n",
      "_________________________________________________________________\n",
      "dense_1 (Dense)              (None, 64)                262208    \n",
      "_________________________________________________________________\n",
      "dense_2 (Dense)              (None, 10)                650       \n",
      "=================================================================\n",
      "Total params: 319,178\n",
      "Trainable params: 319,178\n",
      "Non-trainable params: 0\n",
      "_________________________________________________________________\n"
     ]
    }
   ],
   "source": [
    "#Creating a sequential model\n",
    "model = Sequential()\n",
    "\n",
    "#Convolutional layers\n",
    "model.add( Conv2D(filters = 32, kernel_size = (3,3), padding = 'same', use_bias = 'true', activation = 'relu', input_shape =(32,32,3) ) )\n",
    "\n",
    "model.add( MaxPooling2D(pool_size=(2,2)) )\n",
    "\n",
    "model.add( Conv2D(filters = 64, kernel_size = (3,3), padding = 'same', activation = 'tanh' ) )\n",
    "\n",
    "model.add( MaxPooling2D(pool_size=(2,2)) )\n",
    "\n",
    "model.add( Conv2D(filters = 64, kernel_size = (3,3), padding = 'same', activation = 'relu' ) )\n",
    "\n",
    "#Converting data\n",
    "model.add(Flatten())  \n",
    "\n",
    "#Fully connected layers\n",
    "\n",
    "model.add(Dense(units=64, activation='relu'))\n",
    "\n",
    "#Output layer\n",
    "model.add(Dense(units=10, activation='softmax'))\n",
    "\n",
    "#Finalizing and preparing the model for training\n",
    "model.compile(loss='categorical_crossentropy',\n",
    "              optimizer='adam',\n",
    "              metrics=['accuracy'])\n",
    "\n",
    "#Showing the summary\n",
    "model.summary()"
   ]
  },
  {
   "cell_type": "markdown",
   "metadata": {},
   "source": [
    "### Train Model"
   ]
  },
  {
   "cell_type": "code",
   "execution_count": 7,
   "metadata": {},
   "outputs": [
    {
     "name": "stdout",
     "output_type": "stream",
     "text": [
      "WARNING:tensorflow:From C:\\ProgramData\\Anaconda3\\lib\\site-packages\\tensorflow\\python\\ops\\math_ops.py:3066: to_int32 (from tensorflow.python.ops.math_ops) is deprecated and will be removed in a future version.\n",
      "Instructions for updating:\n",
      "Use tf.cast instead.\n",
      "Train on 50000 samples, validate on 10000 samples\n",
      "Epoch 1/20\n",
      "50000/50000 [==============================] - 55s 1ms/step - loss: 1.7568 - acc: 0.3637 - val_loss: 1.4878 - val_acc: 0.4632\n",
      "Epoch 2/20\n",
      "50000/50000 [==============================] - 52s 1ms/step - loss: 1.3446 - acc: 0.5205 - val_loss: 1.2402 - val_acc: 0.5593\n",
      "Epoch 3/20\n",
      "50000/50000 [==============================] - 55s 1ms/step - loss: 1.1751 - acc: 0.5846 - val_loss: 1.1230 - val_acc: 0.6006\n",
      "Epoch 4/20\n",
      "50000/50000 [==============================] - 52s 1ms/step - loss: 1.0613 - acc: 0.6276 - val_loss: 1.0645 - val_acc: 0.6269\n",
      "Epoch 5/20\n",
      "50000/50000 [==============================] - 51s 1ms/step - loss: 0.9878 - acc: 0.6551 - val_loss: 1.0060 - val_acc: 0.6421\n",
      "Epoch 6/20\n",
      "50000/50000 [==============================] - 47s 943us/step - loss: 0.9197 - acc: 0.6794 - val_loss: 0.9601 - val_acc: 0.6644\n",
      "Epoch 7/20\n",
      "50000/50000 [==============================] - 46s 914us/step - loss: 0.8685 - acc: 0.6986 - val_loss: 0.9241 - val_acc: 0.6792\n",
      "Epoch 8/20\n",
      "50000/50000 [==============================] - 56s 1ms/step - loss: 0.8298 - acc: 0.7113 - val_loss: 0.8995 - val_acc: 0.6876\n",
      "Epoch 9/20\n",
      "50000/50000 [==============================] - 46s 919us/step - loss: 0.7842 - acc: 0.7264 - val_loss: 0.8940 - val_acc: 0.6886\n",
      "Epoch 10/20\n",
      "50000/50000 [==============================] - 44s 889us/step - loss: 0.7528 - acc: 0.7371 - val_loss: 0.8927 - val_acc: 0.6901\n",
      "Epoch 11/20\n",
      "50000/50000 [==============================] - 44s 879us/step - loss: 0.7121 - acc: 0.7534 - val_loss: 0.8605 - val_acc: 0.6966\n",
      "Epoch 12/20\n",
      "50000/50000 [==============================] - 47s 938us/step - loss: 0.6815 - acc: 0.7636 - val_loss: 0.8608 - val_acc: 0.7011\n",
      "Epoch 13/20\n",
      "50000/50000 [==============================] - 48s 964us/step - loss: 0.6516 - acc: 0.7735 - val_loss: 0.8543 - val_acc: 0.7073\n",
      "Epoch 14/20\n",
      "50000/50000 [==============================] - 46s 929us/step - loss: 0.6192 - acc: 0.7843 - val_loss: 0.8549 - val_acc: 0.7069\n",
      "Epoch 15/20\n",
      "50000/50000 [==============================] - 46s 914us/step - loss: 0.5922 - acc: 0.7943 - val_loss: 0.8368 - val_acc: 0.7190\n",
      "Epoch 16/20\n",
      "50000/50000 [==============================] - 47s 933us/step - loss: 0.5642 - acc: 0.8029 - val_loss: 0.8435 - val_acc: 0.7171\n",
      "Epoch 17/20\n",
      "50000/50000 [==============================] - 46s 919us/step - loss: 0.5366 - acc: 0.8140 - val_loss: 0.8413 - val_acc: 0.7268\n",
      "Epoch 18/20\n",
      "50000/50000 [==============================] - 47s 945us/step - loss: 0.5123 - acc: 0.8221 - val_loss: 0.8385 - val_acc: 0.7260\n",
      "Epoch 19/20\n",
      "50000/50000 [==============================] - 46s 928us/step - loss: 0.4881 - acc: 0.8305 - val_loss: 0.8392 - val_acc: 0.7274\n",
      "Epoch 20/20\n",
      "50000/50000 [==============================] - 45s 904us/step - loss: 0.4616 - acc: 0.8407 - val_loss: 0.8891 - val_acc: 0.7114\n"
     ]
    }
   ],
   "source": [
    "train1 = model.fit(x_train, y_train,\n",
    "          batch_size=500,\n",
    "          epochs=20,\n",
    "          verbose=1, #how progress is shown\n",
    "          validation_data=(x_test, y_test)\n",
    "         )\n",
    "\n"
   ]
  },
  {
   "cell_type": "code",
   "execution_count": 8,
   "metadata": {},
   "outputs": [
    {
     "name": "stdout",
     "output_type": "stream",
     "text": [
      "Train on 50000 samples, validate on 10000 samples\n",
      "Epoch 1/17\n",
      "50000/50000 [==============================] - 55s 1ms/step - loss: 0.5325 - acc: 0.8117 - val_loss: 0.9059 - val_acc: 0.7062\n",
      "Epoch 2/17\n",
      "50000/50000 [==============================] - 55s 1ms/step - loss: 0.4794 - acc: 0.8307 - val_loss: 0.9204 - val_acc: 0.7104\n",
      "Epoch 3/17\n",
      "50000/50000 [==============================] - 54s 1ms/step - loss: 0.4308 - acc: 0.8489 - val_loss: 0.9501 - val_acc: 0.7062\n",
      "Epoch 4/17\n",
      "50000/50000 [==============================] - 55s 1ms/step - loss: 0.4079 - acc: 0.8561 - val_loss: 0.9683 - val_acc: 0.7146\n",
      "Epoch 5/17\n",
      "50000/50000 [==============================] - 55s 1ms/step - loss: 0.3683 - acc: 0.8701 - val_loss: 0.9464 - val_acc: 0.7173\n",
      "Epoch 6/17\n",
      "50000/50000 [==============================] - 56s 1ms/step - loss: 0.3305 - acc: 0.8850 - val_loss: 1.0116 - val_acc: 0.7088\n",
      "Epoch 7/17\n",
      "50000/50000 [==============================] - 55s 1ms/step - loss: 0.3041 - acc: 0.8933 - val_loss: 0.9928 - val_acc: 0.7177\n",
      "Epoch 8/17\n",
      "50000/50000 [==============================] - 55s 1ms/step - loss: 0.2812 - acc: 0.9027 - val_loss: 1.0608 - val_acc: 0.7151\n",
      "Epoch 9/17\n",
      "50000/50000 [==============================] - 55s 1ms/step - loss: 0.2551 - acc: 0.9097 - val_loss: 1.0928 - val_acc: 0.7119\n",
      "Epoch 10/17\n",
      "50000/50000 [==============================] - 55s 1ms/step - loss: 0.2349 - acc: 0.9183 - val_loss: 1.1837 - val_acc: 0.7093\n",
      "Epoch 11/17\n",
      "50000/50000 [==============================] - 55s 1ms/step - loss: 0.1999 - acc: 0.9313 - val_loss: 1.2485 - val_acc: 0.7138\n",
      "Epoch 12/17\n",
      "50000/50000 [==============================] - 55s 1ms/step - loss: 0.1907 - acc: 0.9340 - val_loss: 1.2417 - val_acc: 0.7147\n",
      "Epoch 13/17\n",
      "50000/50000 [==============================] - 56s 1ms/step - loss: 0.1652 - acc: 0.9433 - val_loss: 1.2836 - val_acc: 0.7127\n",
      "Epoch 14/17\n",
      "50000/50000 [==============================] - 56s 1ms/step - loss: 0.1535 - acc: 0.9473 - val_loss: 1.2848 - val_acc: 0.7165\n",
      "Epoch 15/17\n",
      "50000/50000 [==============================] - 55s 1ms/step - loss: 0.1292 - acc: 0.9568 - val_loss: 1.4057 - val_acc: 0.7102\n",
      "Epoch 16/17\n",
      "50000/50000 [==============================] - 57s 1ms/step - loss: 0.1216 - acc: 0.9588 - val_loss: 1.4489 - val_acc: 0.7171\n",
      "Epoch 17/17\n",
      "50000/50000 [==============================] - 56s 1ms/step - loss: 0.1060 - acc: 0.9646 - val_loss: 1.5030 - val_acc: 0.7139\n"
     ]
    }
   ],
   "source": [
    "train2 = model.fit(x_train, y_train,\n",
    "          batch_size=250,\n",
    "          epochs=17,\n",
    "          verbose=1, #how progress is shown\n",
    "          validation_data=(x_test, y_test)\n",
    "          )"
   ]
  },
  {
   "cell_type": "code",
   "execution_count": 9,
   "metadata": {
    "scrolled": true
   },
   "outputs": [
    {
     "name": "stdout",
     "output_type": "stream",
     "text": [
      "Train on 50000 samples, validate on 10000 samples\n",
      "Epoch 1/5\n",
      "50000/50000 [==============================] - 40s 810us/step - loss: 0.0655 - acc: 0.9816 - val_loss: 1.4750 - val_acc: 0.7207\n",
      "Epoch 2/5\n",
      "50000/50000 [==============================] - 41s 828us/step - loss: 0.0318 - acc: 0.9955 - val_loss: 1.5099 - val_acc: 0.7232\n",
      "Epoch 3/5\n",
      "50000/50000 [==============================] - 41s 815us/step - loss: 0.0258 - acc: 0.9976 - val_loss: 1.5311 - val_acc: 0.7233\n",
      "Epoch 4/5\n",
      "50000/50000 [==============================] - 41s 823us/step - loss: 0.0230 - acc: 0.9981 - val_loss: 1.5482 - val_acc: 0.7230\n",
      "Epoch 5/5\n",
      "50000/50000 [==============================] - 46s 920us/step - loss: 0.0209 - acc: 0.9985 - val_loss: 1.5704 - val_acc: 0.7243\n"
     ]
    }
   ],
   "source": [
    "train3 = model.fit(x_train, y_train,\n",
    "          batch_size=1028,\n",
    "          epochs=5,\n",
    "          verbose=1, #how progress is shown\n",
    "         validation_data=(x_test, y_test)\n",
    "          )"
   ]
  },
  {
   "cell_type": "markdown",
   "metadata": {},
   "source": [
    "### Test Model"
   ]
  },
  {
   "cell_type": "code",
   "execution_count": 10,
   "metadata": {},
   "outputs": [
    {
     "name": "stdout",
     "output_type": "stream",
     "text": [
      "Test loss: 1.5704348169326783\n",
      "Test accuracy: 0.7243\n"
     ]
    }
   ],
   "source": [
    "score = model.evaluate(x_test, y_test, verbose=0)\n",
    "print('Test loss:', score[0])\n",
    "print('Test accuracy:', score[1])"
   ]
  },
  {
   "cell_type": "markdown",
   "metadata": {},
   "source": [
    "### Result"
   ]
  },
  {
   "cell_type": "markdown",
   "metadata": {},
   "source": [
    "Bei jedem Training verbessert sich die accuracy des Trainingssets, jedoch nicht die accuracy des Testsets.\n",
    "Die 3 Trainings unterscheiden sich in der Anzahl der Epochen und in der größe des Batch Sizes. Durch empirische Untersuchung kamen wir auf die jetzige Zusammensetzung. \n",
    "Wir sind mit der Erwartung rangegeangen, dass sich die Batch Size ähnlich wie die Lerning rate beim gradient descent verhält, also größere Batch size führt zu schnellerem Ergebnis aber das Minimum wird nicht erreicht und kleinere Batch Size lernt langsamer aber findet das Minimum. \n",
    "Deswegen war unser erster Ansatz mit großen Batch Sizes anzufangen und sie im laufe der Trainings zu verringern.\n",
    "Ein Tippfehler hat uns jedoch dazu gebracht am Ende wieder eine größere Batch Size zu verwenden und da es gute Ergebnisse gebracht hat haben wir damit fortgesetzt."
   ]
  },
  {
   "cell_type": "code",
   "execution_count": 11,
   "metadata": {},
   "outputs": [],
   "source": [
    "a1 = round(train1.history['acc'][-1],2)\n",
    "v1 = round(train1.history['val_acc'][-1],2)\n",
    "a2 = round(train2.history['acc'][-1],2)\n",
    "v2 = round(train2.history['val_acc'][-1],2)\n",
    "a3 = round(train3.history['acc'][-1],2)\n",
    "v3 = round(train3.history['val_acc'][-1],2)"
   ]
  },
  {
   "cell_type": "code",
   "execution_count": 12,
   "metadata": {},
   "outputs": [
    {
     "name": "stdout",
     "output_type": "stream",
     "text": [
      "0.84 0.71 0.96 0.71 1.0 0.72\n"
     ]
    }
   ],
   "source": [
    "print(a1,v1,a2,v2,a3,v3)"
   ]
  },
  {
   "cell_type": "code",
   "execution_count": 13,
   "metadata": {},
   "outputs": [
    {
     "data": {
      "text/plain": [
       "<Figure size 640x480 with 1 Axes>"
      ]
     },
     "metadata": {},
     "output_type": "display_data"
    }
   ],
   "source": [
    "import matplotlib\n",
    "import matplotlib.pyplot as plt\n",
    "import numpy as np\n",
    "\n",
    "\n",
    "labels = ['1. train', '2. train', '3.train']\n",
    "accuracy = [a1,a2,a3]\n",
    "val_accuracy = [v1,v2,v3]\n",
    "\n",
    "x = np.arange(len(labels))  # the label locations\n",
    "width = 0.35  # the width of the bars\n",
    "\n",
    "fig, ax = plt.subplots()\n",
    "rects1 = ax.bar(x - width/2, accuracy, width, label='Accuracy')\n",
    "rects2 = ax.bar(x + width/2, val_accuracy, width, label='Validation Accuracy')\n",
    "\n",
    "# Add some text for labels, title and custom x-axis tick labels, etc.\n",
    "ax.set_ylabel('Accuracy')\n",
    "ax.set_title('Accuracy by training and dataset')\n",
    "ax.set_xticks(x)\n",
    "ax.set_xticklabels(labels)\n",
    "ax.legend()\n",
    "\n",
    "\n",
    "def autolabel(rects):\n",
    "    \"\"\"Attach a text label above each bar in *rects*, displaying its height.\"\"\"\n",
    "    for rect in rects:\n",
    "        height = rect.get_height()\n",
    "        ax.annotate('{}'.format(height),\n",
    "                    xy=(rect.get_x() + rect.get_width() / 2, height),\n",
    "                    xytext=(0, 3),  # 3 points vertical offset\n",
    "                    textcoords=\"offset points\",\n",
    "                    ha='center', va='bottom')\n",
    "\n",
    "\n",
    "autolabel(rects1)\n",
    "autolabel(rects2)\n",
    "\n",
    "fig.tight_layout()\n",
    "\n",
    "plt.show()"
   ]
  },
  {
   "cell_type": "code",
   "execution_count": 14,
   "metadata": {},
   "outputs": [],
   "source": [
    "train_loss = np.concatenate((train1.history['loss'], train2.history['loss'], train3.history['loss']))\n",
    "val_loss = np.concatenate((train1.history['val_loss'],train2.history['val_loss'],train3.history['val_loss']))\n",
    "train_acc = np.concatenate((train1.history['acc'], train2.history['acc'], train3.history['acc']))\n",
    "val_acc = np.concatenate((train1.history['val_acc'],train2.history['val_acc'],train3.history['val_acc']))"
   ]
  },
  {
   "cell_type": "code",
   "execution_count": 15,
   "metadata": {},
   "outputs": [],
   "source": [
    "import matplotlib.pyplot as plt\n",
    "import numpy as np\n"
   ]
  },
  {
   "cell_type": "code",
   "execution_count": 16,
   "metadata": {},
   "outputs": [
    {
     "data": {
      "image/png": "[encoded data removed]",
      "text/plain": [
       "<Figure size 432x288 with 1 Axes>"
      ]
     },
     "metadata": {
      "needs_background": "light"
     },
     "output_type": "display_data"
    }
   ],
   "source": [
    "plt.plot(train_acc)\n",
    "plt.title(\"Training Accuracy\")\n",
    "plt.xlabel(\"Epoche\")\n",
    "plt.ylabel(\"Accuracy\")\n",
    "plt.show()"
   ]
  },
  {
   "cell_type": "code",
   "execution_count": 17,
   "metadata": {},
   "outputs": [
    {
     "data": {
      "image/png": "[encoded data removed]",
      "text/plain": [
       "<Figure size 432x288 with 1 Axes>"
      ]
     },
     "metadata": {
      "needs_background": "light"
     },
     "output_type": "display_data"
    }
   ],
   "source": [
    "plt.plot(val_acc)\n",
    "plt.title(\"Validation Accuracy\")\n",
    "plt.xlabel(\"Epoche\")\n",
    "plt.ylabel(\"Accuracy\")\n",
    "plt.show()"
   ]
  },
  {
   "cell_type": "code",
   "execution_count": 18,
   "metadata": {},
   "outputs": [
    {
     "data": {
      "image/png": "[encoded data removed]",
      "text/plain": [
       "<Figure size 432x288 with 1 Axes>"
      ]
     },
     "metadata": {
      "needs_background": "light"
     },
     "output_type": "display_data"
    }
   ],
   "source": [
    "\n",
    "plt.plot(train_loss)\n",
    "plt.plot(val_loss)\n",
    "plt.title(\"Loss\")\n",
    "plt.xlabel(\"Epoche\")\n",
    "plt.ylabel(\"Loss\")\n",
    "\n",
    "plt.show()"
   ]
  },
  {
   "cell_type": "markdown",
   "metadata": {},
   "source": [
    "Beweis für das Overfitting ist hier, dass der loss von val_acc zunächst sinkt, bei weiterem Training sich aber wieder erhöht.\n",
    "Nach ca. 15 Epochen ist der Validation loss am Geringsten (ca 0.85) und steigt mit weiteren Trainingsepochen wieder an (bis auf ca. 1.58 nach 40 Epochen).\n",
    "Wie man an den oben dargestellten Graphen erkennen kann, konnten wir genau das Verhalten beobachten, wie auf der Folie in der Vorlesung besprochen (hier anschließend nochmal dargestellt)."
   ]
  },
  {
   "cell_type": "markdown",
   "metadata": {},
   "source": [
    "<img src=\"graph_overfitting.JPG\" style=\"width:400px;height:400px\"/>"
   ]
  },
  {
   "cell_type": "code",
   "execution_count": null,
   "metadata": {},
   "outputs": [],
   "source": []
  }
 ],
 "metadata": {
  "kernelspec": {
   "display_name": "Python 3",
   "language": "python",
   "name": "python3"
  },
  "language_info": {
   "codemirror_mode": {
    "name": "ipython",
    "version": 3
   },
   "file_extension": ".py",
   "mimetype": "text/x-python",
   "name": "python",
   "nbconvert_exporter": "python",
   "pygments_lexer": "ipython3",
   "version": "3.7.3"
  }
 },
 "nbformat": 4,
 "nbformat_minor": 2
}
