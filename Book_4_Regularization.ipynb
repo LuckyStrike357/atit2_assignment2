{
 "cells": [
  {
   "cell_type": "markdown",
   "metadata": {},
   "source": [
    "# Neural Network Regularization"
   ]
  },
  {
   "cell_type": "markdown",
   "metadata": {},
   "source": [
    "## Task G\n",
    "- Train a neural net and prevent overﬁtting by regularization. \n",
    "- You can use any combination of regularizers we saw in class. \n",
    "- Use the train and test splits in the data do evaluate the model.\n"
   ]
  },
  {
   "cell_type": "markdown",
   "metadata": {},
   "source": [
    "### Import"
   ]
  },
  {
   "cell_type": "code",
   "execution_count": 1,
   "metadata": {},
   "outputs": [
    {
     "name": "stderr",
     "output_type": "stream",
     "text": [
      "Using TensorFlow backend.\n"
     ]
    }
   ],
   "source": [
    "import keras\n",
    "from keras.datasets import cifar10\n",
    "from keras.models import Sequential\n",
    "from keras.layers import Dense, Dropout, Flatten, Lambda\n",
    "from keras.layers import Conv2D, MaxPooling2D\n",
    "from keras.layers import BatchNormalization"
   ]
  },
  {
   "cell_type": "markdown",
   "metadata": {},
   "source": [
    "### Load Data"
   ]
  },
  {
   "cell_type": "code",
   "execution_count": 2,
   "metadata": {},
   "outputs": [],
   "source": [
    "(x_train, y_train), (x_test, y_test) = cifar10.load_data()"
   ]
  },
  {
   "cell_type": "markdown",
   "metadata": {},
   "source": [
    "### Cleaning and Normalization"
   ]
  },
  {
   "cell_type": "code",
   "execution_count": 3,
   "metadata": {},
   "outputs": [],
   "source": [
    "x_train = x_train.astype('float32')\n",
    "x_test = x_test.astype('float32')\n",
    "x_train /= 255\n",
    "x_test /= 255"
   ]
  },
  {
   "cell_type": "markdown",
   "metadata": {},
   "source": [
    "### Convert class vectors to binary class matrices"
   ]
  },
  {
   "cell_type": "code",
   "execution_count": 4,
   "metadata": {},
   "outputs": [],
   "source": [
    "y_train = keras.utils.to_categorical(y_train, 10)\n",
    "y_test = keras.utils.to_categorical(y_test, 10)\n",
    "input_shape = (32, 32, 3)"
   ]
  },
  {
   "cell_type": "markdown",
   "metadata": {},
   "source": [
    "### Build Model"
   ]
  },
  {
   "cell_type": "code",
   "execution_count": 5,
   "metadata": {},
   "outputs": [
    {
     "name": "stdout",
     "output_type": "stream",
     "text": [
      "WARNING:tensorflow:From C:\\ProgramData\\Anaconda3\\lib\\site-packages\\tensorflow\\python\\framework\\op_def_library.py:263: colocate_with (from tensorflow.python.framework.ops) is deprecated and will be removed in a future version.\n",
      "Instructions for updating:\n",
      "Colocations handled automatically by placer.\n",
      "WARNING:tensorflow:From C:\\ProgramData\\Anaconda3\\lib\\site-packages\\keras\\backend\\tensorflow_backend.py:3445: calling dropout (from tensorflow.python.ops.nn_ops) with keep_prob is deprecated and will be removed in a future version.\n",
      "Instructions for updating:\n",
      "Please use `rate` instead of `keep_prob`. Rate should be set to `rate = 1 - keep_prob`.\n",
      "_________________________________________________________________\n",
      "Layer (type)                 Output Shape              Param #   \n",
      "=================================================================\n",
      "conv2d_1 (Conv2D)            (None, 32, 32, 32)        896       \n",
      "_________________________________________________________________\n",
      "max_pooling2d_1 (MaxPooling2 (None, 16, 16, 32)        0         \n",
      "_________________________________________________________________\n",
      "dropout_1 (Dropout)          (None, 16, 16, 32)        0         \n",
      "_________________________________________________________________\n",
      "conv2d_2 (Conv2D)            (None, 16, 16, 64)        18496     \n",
      "_________________________________________________________________\n",
      "max_pooling2d_2 (MaxPooling2 (None, 8, 8, 64)          0         \n",
      "_________________________________________________________________\n",
      "dropout_2 (Dropout)          (None, 8, 8, 64)          0         \n",
      "_________________________________________________________________\n",
      "conv2d_3 (Conv2D)            (None, 8, 8, 64)          36928     \n",
      "_________________________________________________________________\n",
      "flatten_1 (Flatten)          (None, 4096)              0         \n",
      "_________________________________________________________________\n",
      "dense_1 (Dense)              (None, 64)                262208    \n",
      "_________________________________________________________________\n",
      "dense_2 (Dense)              (None, 10)                650       \n",
      "=================================================================\n",
      "Total params: 319,178\n",
      "Trainable params: 319,178\n",
      "Non-trainable params: 0\n",
      "_________________________________________________________________\n"
     ]
    }
   ],
   "source": [
    "#Creating a sequential model\n",
    "model = Sequential()\n",
    "\n",
    "#Convolutional layers\n",
    "model.add( Conv2D(filters = 32, kernel_size = (3,3), padding = 'same', use_bias = 'true', activation = 'relu', input_shape =(32,32,3) ) )\n",
    "\n",
    "model.add( MaxPooling2D(pool_size=(2,2)) )\n",
    "\n",
    "model.add(Dropout(rate=0.5))\n",
    "\n",
    "model.add( Conv2D(filters = 64, kernel_size = (3,3), padding = 'same', activation = 'tanh' ) )\n",
    "\n",
    "model.add( MaxPooling2D(pool_size=(2,2)) )\n",
    "\n",
    "model.add(Dropout(rate=0.5))\n",
    "\n",
    "model.add( Conv2D(filters = 64, kernel_size = (3,3), padding = 'same', activation = 'relu' ) )\n",
    "\n",
    "#Converting data\n",
    "model.add(Flatten())  \n",
    "\n",
    "#Fully connected layers\n",
    "\n",
    "model.add(Dense(units=64, activation='relu'))\n",
    "\n",
    "#Output layer\n",
    "model.add(Dense(units=10, activation='softmax'))\n",
    "\n",
    "#Finalizing and preparing the model for training\n",
    "model.compile(\n",
    "              loss = 'kullback_leibler_divergence',\n",
    "              #loss='categorical_crossentropy',\n",
    "              optimizer='adam',\n",
    "              metrics=['accuracy'])\n",
    "\n",
    "#Showing the summary\n",
    "model.summary()"
   ]
  },
  {
   "cell_type": "markdown",
   "metadata": {},
   "source": [
    "### Train Model"
   ]
  },
  {
   "cell_type": "code",
   "execution_count": 6,
   "metadata": {},
   "outputs": [
    {
     "name": "stdout",
     "output_type": "stream",
     "text": [
      "WARNING:tensorflow:From C:\\ProgramData\\Anaconda3\\lib\\site-packages\\tensorflow\\python\\ops\\math_ops.py:3066: to_int32 (from tensorflow.python.ops.math_ops) is deprecated and will be removed in a future version.\n",
      "Instructions for updating:\n",
      "Use tf.cast instead.\n",
      "Train on 50000 samples, validate on 10000 samples\n",
      "Epoch 1/20\n",
      "50000/50000 [==============================] - 57s 1ms/step - loss: 1.9269 - acc: 0.2956 - val_loss: 1.8792 - val_acc: 0.3258\n",
      "Epoch 2/20\n",
      "50000/50000 [==============================] - 63s 1ms/step - loss: 1.5467 - acc: 0.4456 - val_loss: 1.7163 - val_acc: 0.4169\n",
      "Epoch 3/20\n",
      "50000/50000 [==============================] - 58s 1ms/step - loss: 1.3899 - acc: 0.5036 - val_loss: 1.7372 - val_acc: 0.4153\n",
      "Epoch 4/20\n",
      "50000/50000 [==============================] - 60s 1ms/step - loss: 1.2783 - acc: 0.5439 - val_loss: 1.8315 - val_acc: 0.3967\n",
      "Epoch 5/20\n",
      "50000/50000 [==============================] - 58s 1ms/step - loss: 1.1899 - acc: 0.5749 - val_loss: 1.7636 - val_acc: 0.4301\n",
      "Epoch 6/20\n",
      "50000/50000 [==============================] - 59s 1ms/step - loss: 1.1419 - acc: 0.5945 - val_loss: 1.8367 - val_acc: 0.4223\n",
      "Epoch 7/20\n",
      "50000/50000 [==============================] - 59s 1ms/step - loss: 1.0972 - acc: 0.6102 - val_loss: 1.8721 - val_acc: 0.4192\n",
      "Epoch 8/20\n",
      "50000/50000 [==============================] - 61s 1ms/step - loss: 1.0513 - acc: 0.6279 - val_loss: 1.4609 - val_acc: 0.5160\n",
      "Epoch 9/20\n",
      "50000/50000 [==============================] - 59s 1ms/step - loss: 1.0155 - acc: 0.6424 - val_loss: 1.4196 - val_acc: 0.5274\n",
      "Epoch 10/20\n",
      "50000/50000 [==============================] - 60s 1ms/step - loss: 0.9819 - acc: 0.6529 - val_loss: 1.3602 - val_acc: 0.5484\n",
      "Epoch 11/20\n",
      "50000/50000 [==============================] - 60s 1ms/step - loss: 0.9525 - acc: 0.6640 - val_loss: 1.5593 - val_acc: 0.5103\n",
      "Epoch 12/20\n",
      "50000/50000 [==============================] - 60s 1ms/step - loss: 0.9253 - acc: 0.6756 - val_loss: 1.2126 - val_acc: 0.5929\n",
      "Epoch 13/20\n",
      "50000/50000 [==============================] - 65s 1ms/step - loss: 0.9110 - acc: 0.6798 - val_loss: 1.1708 - val_acc: 0.6078\n",
      "Epoch 14/20\n",
      "50000/50000 [==============================] - 64s 1ms/step - loss: 0.8777 - acc: 0.6933 - val_loss: 1.4892 - val_acc: 0.5462\n",
      "Epoch 15/20\n",
      "50000/50000 [==============================] - 67s 1ms/step - loss: 0.8614 - acc: 0.6966 - val_loss: 1.1753 - val_acc: 0.6120\n",
      "Epoch 16/20\n",
      "50000/50000 [==============================] - 63s 1ms/step - loss: 0.8411 - acc: 0.7032 - val_loss: 1.2244 - val_acc: 0.5997\n",
      "Epoch 17/20\n",
      "50000/50000 [==============================] - 62s 1ms/step - loss: 0.8410 - acc: 0.7039 - val_loss: 1.5116 - val_acc: 0.5349\n",
      "Epoch 18/20\n",
      "50000/50000 [==============================] - 61s 1ms/step - loss: 0.8145 - acc: 0.7131 - val_loss: 1.0822 - val_acc: 0.6471\n",
      "Epoch 19/20\n",
      "50000/50000 [==============================] - 61s 1ms/step - loss: 0.7937 - acc: 0.7221 - val_loss: 1.1695 - val_acc: 0.6226\n",
      "Epoch 20/20\n",
      "50000/50000 [==============================] - 63s 1ms/step - loss: 0.7724 - acc: 0.7289 - val_loss: 1.0650 - val_acc: 0.6499\n"
     ]
    }
   ],
   "source": [
    "train1 = model.fit(x_train, y_train,\n",
    "          batch_size=500,\n",
    "          epochs=20,\n",
    "          verbose=1, #how progress is shown\n",
    "          validation_data=(x_test, y_test)\n",
    "         )"
   ]
  },
  {
   "cell_type": "code",
   "execution_count": 7,
   "metadata": {},
   "outputs": [
    {
     "name": "stdout",
     "output_type": "stream",
     "text": [
      "Train on 50000 samples, validate on 10000 samples\n",
      "Epoch 1/5\n",
      "50000/50000 [==============================] - 71s 1ms/step - loss: 0.8142 - acc: 0.7148 - val_loss: 1.0723 - val_acc: 0.6424\n",
      "Epoch 2/5\n",
      "50000/50000 [==============================] - 71s 1ms/step - loss: 0.7881 - acc: 0.7238 - val_loss: 1.1178 - val_acc: 0.6451\n",
      "Epoch 3/5\n",
      "50000/50000 [==============================] - 72s 1ms/step - loss: 0.7688 - acc: 0.7302 - val_loss: 0.9939 - val_acc: 0.6731\n",
      "Epoch 4/5\n",
      "50000/50000 [==============================] - 70s 1ms/step - loss: 0.7510 - acc: 0.7358 - val_loss: 1.0377 - val_acc: 0.6610\n",
      "Epoch 5/5\n",
      "50000/50000 [==============================] - 70s 1ms/step - loss: 0.7254 - acc: 0.7467 - val_loss: 0.9630 - val_acc: 0.6810\n"
     ]
    }
   ],
   "source": [
    "train2 = model.fit(x_train, y_train,\n",
    "          batch_size=250,\n",
    "          epochs=5,\n",
    "          verbose=1, #how progress is shown\n",
    "          validation_data=(x_test, y_test)\n",
    "          )"
   ]
  },
  {
   "cell_type": "code",
   "execution_count": 8,
   "metadata": {},
   "outputs": [
    {
     "name": "stdout",
     "output_type": "stream",
     "text": [
      "Train on 50000 samples, validate on 10000 samples\n",
      "Epoch 1/7\n",
      "50000/50000 [==============================] - 56s 1ms/step - loss: 0.6685 - acc: 0.7666 - val_loss: 1.0788 - val_acc: 0.6612\n",
      "Epoch 2/7\n",
      "50000/50000 [==============================] - 57s 1ms/step - loss: 0.6480 - acc: 0.7723 - val_loss: 1.0896 - val_acc: 0.6639\n",
      "Epoch 3/7\n",
      "50000/50000 [==============================] - 56s 1ms/step - loss: 0.6320 - acc: 0.7783 - val_loss: 1.0795 - val_acc: 0.6659\n",
      "Epoch 4/7\n",
      "50000/50000 [==============================] - 55s 1ms/step - loss: 0.6306 - acc: 0.7775 - val_loss: 1.0093 - val_acc: 0.6788\n",
      "Epoch 5/7\n",
      "50000/50000 [==============================] - 57s 1ms/step - loss: 0.6249 - acc: 0.7791 - val_loss: 1.0498 - val_acc: 0.6788\n",
      "Epoch 6/7\n",
      "50000/50000 [==============================] - 57s 1ms/step - loss: 0.6238 - acc: 0.7797 - val_loss: 1.0588 - val_acc: 0.6761\n",
      "Epoch 7/7\n",
      "50000/50000 [==============================] - 55s 1ms/step - loss: 0.6139 - acc: 0.7846 - val_loss: 1.0288 - val_acc: 0.6800\n"
     ]
    }
   ],
   "source": [
    "train3 = model.fit(x_train, y_train,\n",
    "          batch_size=1028,\n",
    "          epochs=7,\n",
    "          verbose=1, #how progress is shown\n",
    "          validation_data=(x_test, y_test)\n",
    "          )"
   ]
  },
  {
   "cell_type": "markdown",
   "metadata": {},
   "source": [
    "### Test Model"
   ]
  },
  {
   "cell_type": "code",
   "execution_count": 9,
   "metadata": {},
   "outputs": [
    {
     "name": "stdout",
     "output_type": "stream",
     "text": [
      "Test loss: 1.028835597229004\n",
      "Test accuracy: 0.68\n"
     ]
    }
   ],
   "source": [
    "score = model.evaluate(x_test, y_test, verbose=0)\n",
    "print('Test loss:', score[0])\n",
    "print('Test accuracy:', score[1])"
   ]
  },
  {
   "cell_type": "markdown",
   "metadata": {},
   "source": [
    "### Results"
   ]
  },
  {
   "cell_type": "code",
   "execution_count": 10,
   "metadata": {},
   "outputs": [],
   "source": [
    "a1 = train1.history['acc'][-1]\n",
    "v1 = train1.history['val_acc'][-1]\n",
    "a2 = train2.history['acc'][-1]\n",
    "v2 = train2.history['val_acc'][-1]\n",
    "a3 = train3.history['acc'][-1]\n",
    "v3 = train3.history['val_acc'][-1]"
   ]
  },
  {
   "cell_type": "code",
   "execution_count": 11,
   "metadata": {},
   "outputs": [
    {
     "data": {
      "text/plain": [
       "<Figure size 640x480 with 1 Axes>"
      ]
     },
     "metadata": {},
     "output_type": "display_data"
    }
   ],
   "source": [
    "import matplotlib\n",
    "import matplotlib.pyplot as plt\n",
    "import numpy as np\n",
    "\n",
    "\n",
    "labels = ['1. train', '2. train', '3.train']\n",
    "accuracy = [a1,a2,a3]\n",
    "val_accuracy = [v1,v2,v3]\n",
    "\n",
    "x = np.arange(len(labels))  # the label locations\n",
    "width = 0.35  # the width of the bars\n",
    "\n",
    "fig, ax = plt.subplots()\n",
    "rects1 = ax.bar(x - width/2, accuracy, width, label='Accuracy')\n",
    "rects2 = ax.bar(x + width/2, val_accuracy, width, label='Validation Accuracy')\n",
    "\n",
    "# Add some text for labels, title and custom x-axis tick labels, etc.\n",
    "ax.set_ylabel('Accuracy')\n",
    "ax.set_title('Accuracy by training and dataset')\n",
    "ax.set_xticks(x)\n",
    "ax.set_xticklabels(labels)\n",
    "ax.legend()\n",
    "\n",
    "\n",
    "def autolabel(rects):\n",
    "    \"\"\"Attach a text label above each bar in *rects*, displaying its height.\"\"\"\n",
    "    for rect in rects:\n",
    "        height = rect.get_height()\n",
    "        ax.annotate('{}'.format(height),\n",
    "                    xy=(rect.get_x() + rect.get_width() / 2, height),\n",
    "                    xytext=(0, 3),  # 3 points vertical offset\n",
    "                    textcoords=\"offset points\",\n",
    "                    ha='center', va='bottom')\n",
    "\n",
    "\n",
    "autolabel(rects1)\n",
    "autolabel(rects2)\n",
    "\n",
    "fig.tight_layout()\n",
    "\n",
    "plt.show()"
   ]
  },
  {
   "cell_type": "code",
   "execution_count": 12,
   "metadata": {},
   "outputs": [],
   "source": [
    "train_loss = np.concatenate((train1.history['loss'], train2.history['loss'], train3.history['loss']))\n",
    "val_loss = np.concatenate((train1.history['val_loss'],train2.history['val_loss'],train3.history['val_loss']))\n",
    "train_acc = np.concatenate((train1.history['acc'], train2.history['acc'], train3.history['acc']))\n",
    "val_acc = np.concatenate((train1.history['val_acc'],train2.history['val_acc'],train3.history['val_acc']))"
   ]
  },
  {
   "cell_type": "code",
   "execution_count": 13,
   "metadata": {},
   "outputs": [],
   "source": [
    "import matplotlib.pyplot as plt\n",
    "import numpy as np"
   ]
  },
  {
   "cell_type": "code",
   "execution_count": 14,
   "metadata": {},
   "outputs": [
    {
     "data": {
      "image/png": "[encoded data removed]",
      "text/plain": [
       "<Figure size 432x288 with 1 Axes>"
      ]
     },
     "metadata": {
      "needs_background": "light"
     },
     "output_type": "display_data"
    }
   ],
   "source": [
    "plt.plot(train_acc)\n",
    "plt.title(\"Training Accuracy\")\n",
    "plt.xlabel(\"Epoche\")\n",
    "plt.ylabel(\"Accuracy\")\n",
    "plt.show()"
   ]
  },
  {
   "cell_type": "code",
   "execution_count": 15,
   "metadata": {},
   "outputs": [
    {
     "data": {
      "image/png": "[encoded data removed]",
      "text/plain": [
       "<Figure size 432x288 with 1 Axes>"
      ]
     },
     "metadata": {
      "needs_background": "light"
     },
     "output_type": "display_data"
    }
   ],
   "source": [
    "plt.plot(val_acc)\n",
    "plt.title(\"Validation Accuracy\")\n",
    "plt.xlabel(\"Epoche\")\n",
    "plt.ylabel(\"Accuracy\")\n",
    "plt.show()"
   ]
  },
  {
   "cell_type": "code",
   "execution_count": 16,
   "metadata": {},
   "outputs": [
    {
     "data": {
      "image/png": "[encoded data removed]",
      "text/plain": [
       "<Figure size 432x288 with 1 Axes>"
      ]
     },
     "metadata": {
      "needs_background": "light"
     },
     "output_type": "display_data"
    }
   ],
   "source": [
    "plt.plot(train_loss)\n",
    "plt.plot(val_loss)\n",
    "plt.title(\"Loss\")\n",
    "plt.xlabel(\"Epoche\")\n",
    "plt.ylabel(\"Loss\")\n",
    "plt.show()"
   ]
  },
  {
   "cell_type": "markdown",
   "metadata": {},
   "source": [
    "Wie im vergeleich unserer Loss Function und der Abbildung aus der Vorlesung zu sehen ist dieses Modell nicht overfitted sondern im Bereich der Generalisation. \n",
    "Dies haben wir erreich indem wir das Model angepasst haben und Dropout Layers hinzugefügt haben, also Layers die mit einer Wahrscheinlichkeit von in unserem Fall 50% Werte aus der Bewertung rausfallen lassen. Dies für dazu, dass der Zufall nicht so leicht gelernt werden kann aber auch zu einer höheren Fluktuation der Graphen. \n",
    "Außerdem haben wir eine andere Loss Function gewählt, die höhere Strafen für extreme Weights verwendet um einen Weight decay zu verhindern. \n",
    "Auch haben wir die Epochen reduziert um den richtigen Moment abzupassen und Generalisation zu gewährleisten. \n",
    "Wir haben während diesem Prozess auchmit Batch Normalization rumprobiert aber keine guten Ergebnisse erzielen können und es deshalb wieder rausgeschmissen."
   ]
  },
  {
   "cell_type": "markdown",
   "metadata": {},
   "source": [
    "<img src=\"graph_overfitting.JPG\" style=\"width:400px;height:400px\"/>"
   ]
  },
  {
   "cell_type": "code",
   "execution_count": null,
   "metadata": {},
   "outputs": [],
   "source": []
  },
  {
   "cell_type": "code",
   "execution_count": null,
   "metadata": {},
   "outputs": [],
   "source": []
  }
 ],
 "metadata": {
  "kernelspec": {
   "display_name": "Python 3",
   "language": "python",
   "name": "python3"
  },
  "language_info": {
   "codemirror_mode": {
    "name": "ipython",
    "version": 3
   },
   "file_extension": ".py",
   "mimetype": "text/x-python",
   "name": "python",
   "nbconvert_exporter": "python",
   "pygments_lexer": "ipython3",
   "version": "3.7.3"
  }
 },
 "nbformat": 4,
 "nbformat_minor": 2
}
