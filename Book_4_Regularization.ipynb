{
 "cells": [
  {
   "cell_type": "markdown",
   "metadata": {},
   "source": [
    "# Neural Network Regularization"
   ]
  },
  {
   "cell_type": "markdown",
   "metadata": {},
   "source": [
    "## Task G\n",
    "- Train a neural net and prevent overﬁtting by regularization. \n",
    "- You can use any combination of regularizers we saw in class. \n",
    "- Use the train and test splits in the data do evaluate the model.\n"
   ]
  },
  {
   "cell_type": "markdown",
   "metadata": {},
   "source": [
    "### Import"
   ]
  },
  {
   "cell_type": "code",
   "execution_count": 1,
   "metadata": {},
   "outputs": [
    {
     "name": "stderr",
     "output_type": "stream",
     "text": [
      "Using TensorFlow backend.\n"
     ]
    }
   ],
   "source": [
    "import keras\n",
    "from keras.datasets import cifar10\n",
    "from keras.models import Sequential\n",
    "from keras.layers import Dense, Dropout, Flatten, Lambda\n",
    "from keras.layers import Conv2D, MaxPooling2D\n",
    "from keras.layers import BatchNormalization"
   ]
  },
  {
   "cell_type": "markdown",
   "metadata": {},
   "source": [
    "### Load Data"
   ]
  },
  {
   "cell_type": "code",
   "execution_count": 2,
   "metadata": {},
   "outputs": [],
   "source": [
    "(x_train, y_train), (x_test, y_test) = cifar10.load_data()"
   ]
  },
  {
   "cell_type": "markdown",
   "metadata": {},
   "source": [
    "### Cleaning and Normalization"
   ]
  },
  {
   "cell_type": "code",
   "execution_count": 3,
   "metadata": {},
   "outputs": [],
   "source": [
    "x_train = x_train.astype('float32')\n",
    "x_test = x_test.astype('float32')\n",
    "x_train /= 255\n",
    "x_test /= 255"
   ]
  },
  {
   "cell_type": "markdown",
   "metadata": {},
   "source": [
    "### Convert class vectors to binary class matrices"
   ]
  },
  {
   "cell_type": "code",
   "execution_count": 4,
   "metadata": {},
   "outputs": [],
   "source": [
    "y_train = keras.utils.to_categorical(y_train, 10)\n",
    "y_test = keras.utils.to_categorical(y_test, 10)\n",
    "input_shape = (32, 32, 3)"
   ]
  },
  {
   "cell_type": "markdown",
   "metadata": {},
   "source": [
    "### Build Model"
   ]
  },
  {
   "cell_type": "code",
   "execution_count": 5,
   "metadata": {},
   "outputs": [
    {
     "name": "stdout",
     "output_type": "stream",
     "text": [
      "WARNING:tensorflow:From C:\\ProgramData\\Anaconda3\\lib\\site-packages\\tensorflow\\python\\framework\\op_def_library.py:263: colocate_with (from tensorflow.python.framework.ops) is deprecated and will be removed in a future version.\n",
      "Instructions for updating:\n",
      "Colocations handled automatically by placer.\n",
      "WARNING:tensorflow:From C:\\ProgramData\\Anaconda3\\lib\\site-packages\\keras\\backend\\tensorflow_backend.py:3445: calling dropout (from tensorflow.python.ops.nn_ops) with keep_prob is deprecated and will be removed in a future version.\n",
      "Instructions for updating:\n",
      "Please use `rate` instead of `keep_prob`. Rate should be set to `rate = 1 - keep_prob`.\n",
      "_________________________________________________________________\n",
      "Layer (type)                 Output Shape              Param #   \n",
      "=================================================================\n",
      "conv2d_1 (Conv2D)            (None, 32, 32, 32)        896       \n",
      "_________________________________________________________________\n",
      "max_pooling2d_1 (MaxPooling2 (None, 16, 16, 32)        0         \n",
      "_________________________________________________________________\n",
      "dropout_1 (Dropout)          (None, 16, 16, 32)        0         \n",
      "_________________________________________________________________\n",
      "conv2d_2 (Conv2D)            (None, 16, 16, 64)        18496     \n",
      "_________________________________________________________________\n",
      "max_pooling2d_2 (MaxPooling2 (None, 8, 8, 64)          0         \n",
      "_________________________________________________________________\n",
      "dropout_2 (Dropout)          (None, 8, 8, 64)          0         \n",
      "_________________________________________________________________\n",
      "conv2d_3 (Conv2D)            (None, 8, 8, 64)          36928     \n",
      "_________________________________________________________________\n",
      "flatten_1 (Flatten)          (None, 4096)              0         \n",
      "_________________________________________________________________\n",
      "dense_1 (Dense)              (None, 64)                262208    \n",
      "_________________________________________________________________\n",
      "dense_2 (Dense)              (None, 10)                650       \n",
      "=================================================================\n",
      "Total params: 319,178\n",
      "Trainable params: 319,178\n",
      "Non-trainable params: 0\n",
      "_________________________________________________________________\n"
     ]
    }
   ],
   "source": [
    "#Creating a sequential model\n",
    "model = Sequential()\n",
    "\n",
    "#Convolutional layers\n",
    "model.add( Conv2D(filters = 32, kernel_size = (3,3), padding = 'same', use_bias = 'true', activation = 'relu', input_shape =(32,32,3) ) )\n",
    "\n",
    "model.add( MaxPooling2D(pool_size=(2,2)) )\n",
    "\n",
    "model.add(Dropout(rate=0.5))\n",
    "\n",
    "model.add( Conv2D(filters = 64, kernel_size = (3,3), padding = 'same', activation = 'tanh' ) )\n",
    "\n",
    "model.add( MaxPooling2D(pool_size=(2,2)) )\n",
    "\n",
    "model.add(Dropout(rate=0.5))\n",
    "\n",
    "model.add( Conv2D(filters = 64, kernel_size = (3,3), padding = 'same', activation = 'relu' ) )\n",
    "\n",
    "#Converting data\n",
    "model.add(Flatten())  \n",
    "\n",
    "#Fully connected layers\n",
    "\n",
    "\n",
    "#model.add(Dense(units=64))\n",
    "#model.add(BatchNormalization())\n",
    "#model.add(Activation('relu'))\n",
    "\n",
    "model.add(Dense(units=64, activation='relu'))\n",
    "\n",
    "#Output layer\n",
    "model.add(Dense(units=10, activation='softmax'))\n",
    "\n",
    "#Finalizing and preparing the model for training\n",
    "model.compile(\n",
    "              loss = 'kullback_leibler_divergence',\n",
    "              #loss='categorical_crossentropy',\n",
    "              optimizer='adam',\n",
    "              metrics=['accuracy'])\n",
    "\n",
    "#Showing the summary\n",
    "model.summary()"
   ]
  },
  {
   "cell_type": "markdown",
   "metadata": {},
   "source": [
    "### Train Model"
   ]
  },
  {
   "cell_type": "code",
   "execution_count": 6,
   "metadata": {},
   "outputs": [
    {
     "name": "stdout",
     "output_type": "stream",
     "text": [
      "WARNING:tensorflow:From C:\\ProgramData\\Anaconda3\\lib\\site-packages\\tensorflow\\python\\ops\\math_ops.py:3066: to_int32 (from tensorflow.python.ops.math_ops) is deprecated and will be removed in a future version.\n",
      "Instructions for updating:\n",
      "Use tf.cast instead.\n",
      "Train on 50000 samples, validate on 10000 samples\n",
      "Epoch 1/20\n",
      "50000/50000 [==============================] - 107s 2ms/step - loss: 1.9263 - acc: 0.2956 - val_loss: 1.7045 - val_acc: 0.3872\n",
      "Epoch 2/20\n",
      "50000/50000 [==============================] - 102s 2ms/step - loss: 1.5156 - acc: 0.4532 - val_loss: 1.5654 - val_acc: 0.4296\n",
      "Epoch 3/20\n",
      "50000/50000 [==============================] - 98s 2ms/step - loss: 1.3720 - acc: 0.5086 - val_loss: 1.3860 - val_acc: 0.4994\n",
      "Epoch 4/20\n",
      "50000/50000 [==============================] - 97s 2ms/step - loss: 1.2746 - acc: 0.5443 - val_loss: 1.5678 - val_acc: 0.4449\n",
      "Epoch 5/20\n",
      "50000/50000 [==============================] - 97s 2ms/step - loss: 1.2067 - acc: 0.5700 - val_loss: 1.4861 - val_acc: 0.4867\n",
      "Epoch 6/20\n",
      "50000/50000 [==============================] - 100s 2ms/step - loss: 1.1477 - acc: 0.5909 - val_loss: 1.4603 - val_acc: 0.4884\n",
      "Epoch 7/20\n",
      "50000/50000 [==============================] - 98s 2ms/step - loss: 1.1032 - acc: 0.6084 - val_loss: 1.3975 - val_acc: 0.5192\n",
      "Epoch 8/20\n",
      "50000/50000 [==============================] - 102s 2ms/step - loss: 1.0686 - acc: 0.6235 - val_loss: 1.2877 - val_acc: 0.5595\n",
      "Epoch 9/20\n",
      "50000/50000 [==============================] - 99s 2ms/step - loss: 1.0264 - acc: 0.6384 - val_loss: 1.7546 - val_acc: 0.4605\n",
      "Epoch 10/20\n",
      "50000/50000 [==============================] - 98s 2ms/step - loss: 1.0043 - acc: 0.6465 - val_loss: 1.1984 - val_acc: 0.5803\n",
      "Epoch 11/20\n",
      "50000/50000 [==============================] - 99s 2ms/step - loss: 0.9695 - acc: 0.6580 - val_loss: 1.1464 - val_acc: 0.6021\n",
      "Epoch 12/20\n",
      "50000/50000 [==============================] - 98s 2ms/step - loss: 0.9454 - acc: 0.6668 - val_loss: 1.2387 - val_acc: 0.5830\n",
      "Epoch 13/20\n",
      "50000/50000 [==============================] - 98s 2ms/step - loss: 0.9168 - acc: 0.6792 - val_loss: 1.3535 - val_acc: 0.5538\n",
      "Epoch 14/20\n",
      "50000/50000 [==============================] - 103s 2ms/step - loss: 0.9043 - acc: 0.6814 - val_loss: 1.1139 - val_acc: 0.6184\n",
      "Epoch 15/20\n",
      "50000/50000 [==============================] - 98s 2ms/step - loss: 0.8821 - acc: 0.6893 - val_loss: 1.1470 - val_acc: 0.6133\n",
      "Epoch 16/20\n",
      "50000/50000 [==============================] - 99s 2ms/step - loss: 0.8558 - acc: 0.7017 - val_loss: 1.1737 - val_acc: 0.6106\n",
      "Epoch 17/20\n",
      "50000/50000 [==============================] - 100s 2ms/step - loss: 0.8470 - acc: 0.7027 - val_loss: 1.0578 - val_acc: 0.6404\n",
      "Epoch 18/20\n",
      "50000/50000 [==============================] - 99s 2ms/step - loss: 0.8259 - acc: 0.7101 - val_loss: 1.0351 - val_acc: 0.6492\n",
      "Epoch 19/20\n",
      "50000/50000 [==============================] - 97s 2ms/step - loss: 0.8140 - acc: 0.7159 - val_loss: 1.1357 - val_acc: 0.6229\n",
      "Epoch 20/20\n",
      "50000/50000 [==============================] - 98s 2ms/step - loss: 0.8064 - acc: 0.7179 - val_loss: 1.1923 - val_acc: 0.6051\n"
     ]
    }
   ],
   "source": [
    "train1 = model.fit(x_train, y_train,\n",
    "          batch_size=500,\n",
    "          epochs=20,\n",
    "          verbose=1, #how progress is shown\n",
    "          validation_data=(x_test, y_test)\n",
    "         )"
   ]
  },
  {
   "cell_type": "code",
   "execution_count": 7,
   "metadata": {},
   "outputs": [
    {
     "name": "stdout",
     "output_type": "stream",
     "text": [
      "Train on 50000 samples, validate on 10000 samples\n",
      "Epoch 1/10\n",
      "50000/50000 [==============================] - 110s 2ms/step - loss: 0.8353 - acc: 0.7064 - val_loss: 1.0167 - val_acc: 0.6574\n",
      "Epoch 2/10\n",
      "50000/50000 [==============================] - 110s 2ms/step - loss: 0.8088 - acc: 0.7163 - val_loss: 1.0671 - val_acc: 0.6437\n",
      "Epoch 3/10\n",
      "50000/50000 [==============================] - 110s 2ms/step - loss: 0.7869 - acc: 0.7223 - val_loss: 0.8978 - val_acc: 0.6969\n",
      "Epoch 4/10\n",
      "50000/50000 [==============================] - 110s 2ms/step - loss: 0.7632 - acc: 0.7316 - val_loss: 0.9439 - val_acc: 0.6879\n",
      "Epoch 5/10\n",
      "50000/50000 [==============================] - 110s 2ms/step - loss: 0.7478 - acc: 0.7371 - val_loss: 1.0646 - val_acc: 0.6582\n",
      "Epoch 6/10\n",
      "50000/50000 [==============================] - 109s 2ms/step - loss: 0.7396 - acc: 0.7420 - val_loss: 1.0819 - val_acc: 0.6477\n",
      "Epoch 7/10\n",
      "50000/50000 [==============================] - 110s 2ms/step - loss: 0.7228 - acc: 0.7481 - val_loss: 0.9353 - val_acc: 0.6859\n",
      "Epoch 8/10\n",
      "50000/50000 [==============================] - 109s 2ms/step - loss: 0.7136 - acc: 0.7477 - val_loss: 1.0385 - val_acc: 0.6655\n",
      "Epoch 9/10\n",
      "50000/50000 [==============================] - 110s 2ms/step - loss: 0.6971 - acc: 0.7561 - val_loss: 0.9561 - val_acc: 0.6819\n",
      "Epoch 10/10\n",
      "50000/50000 [==============================] - 110s 2ms/step - loss: 0.6886 - acc: 0.7582 - val_loss: 1.0699 - val_acc: 0.6530\n"
     ]
    }
   ],
   "source": [
    "train2 = model.fit(x_train, y_train,\n",
    "          batch_size=250,\n",
    "          epochs=5,\n",
    "          verbose=1, #how progress is shown\n",
    "          validation_data=(x_test, y_test)\n",
    "          )"
   ]
  },
  {
   "cell_type": "code",
   "execution_count": 8,
   "metadata": {},
   "outputs": [
    {
     "name": "stdout",
     "output_type": "stream",
     "text": [
      "Train on 50000 samples, validate on 10000 samples\n",
      "Epoch 1/5\n",
      "50000/50000 [==============================] - 96s 2ms/step - loss: 0.6338 - acc: 0.7758 - val_loss: 0.8956 - val_acc: 0.7031\n",
      "Epoch 2/5\n",
      "50000/50000 [==============================] - 93s 2ms/step - loss: 0.6135 - acc: 0.7844 - val_loss: 0.9272 - val_acc: 0.7009\n",
      "Epoch 3/5\n",
      "50000/50000 [==============================] - 95s 2ms/step - loss: 0.6026 - acc: 0.7884 - val_loss: 0.9548 - val_acc: 0.6953\n",
      "Epoch 4/5\n",
      "50000/50000 [==============================] - 95s 2ms/step - loss: 0.6057 - acc: 0.7879 - val_loss: 0.9590 - val_acc: 0.6926\n",
      "Epoch 5/5\n",
      "50000/50000 [==============================] - 93s 2ms/step - loss: 0.5988 - acc: 0.7892 - val_loss: 0.9230 - val_acc: 0.6996\n"
     ]
    }
   ],
   "source": [
    "train3 = model.fit(x_train, y_train,\n",
    "          batch_size=1028,\n",
    "          epochs=7,\n",
    "          verbose=1, #how progress is shown\n",
    "          validation_data=(x_test, y_test)\n",
    "          )"
   ]
  },
  {
   "cell_type": "markdown",
   "metadata": {},
   "source": [
    "### Test Model"
   ]
  },
  {
   "cell_type": "code",
   "execution_count": 9,
   "metadata": {},
   "outputs": [
    {
     "name": "stdout",
     "output_type": "stream",
     "text": [
      "Test loss: 0.9230487188339234\n",
      "Test accuracy: 0.6996\n"
     ]
    }
   ],
   "source": [
    "score = model.evaluate(x_test, y_test, verbose=0)\n",
    "print('Test loss:', score[0])\n",
    "print('Test accuracy:', score[1])"
   ]
  },
  {
   "cell_type": "markdown",
   "metadata": {},
   "source": [
    "### Results"
   ]
  },
  {
   "cell_type": "code",
   "execution_count": 10,
   "metadata": {},
   "outputs": [],
   "source": [
    "a1 = train1.history['acc'][-1]\n",
    "v1 = train1.history['val_acc'][-1]\n",
    "a2 = train2.history['acc'][-1]\n",
    "v2 = train2.history['val_acc'][-1]\n",
    "a3 = train3.history['acc'][-1]\n",
    "v3 = train3.history['val_acc'][-1]"
   ]
  },
  {
   "cell_type": "code",
   "execution_count": 11,
   "metadata": {},
   "outputs": [
    {
     "data": {
      "text/plain": [
       "<Figure size 640x480 with 1 Axes>"
      ]
     },
     "metadata": {},
     "output_type": "display_data"
    }
   ],
   "source": [
    "import matplotlib\n",
    "import matplotlib.pyplot as plt\n",
    "import numpy as np\n",
    "\n",
    "\n",
    "labels = ['1. train', '2. train', '3.train']\n",
    "accuracy = [a1,a2,a3]\n",
    "val_accuracy = [v1,v2,v3]\n",
    "\n",
    "x = np.arange(len(labels))  # the label locations\n",
    "width = 0.35  # the width of the bars\n",
    "\n",
    "fig, ax = plt.subplots()\n",
    "rects1 = ax.bar(x - width/2, accuracy, width, label='Accuracy')\n",
    "rects2 = ax.bar(x + width/2, val_accuracy, width, label='Validation Accuracy')\n",
    "\n",
    "# Add some text for labels, title and custom x-axis tick labels, etc.\n",
    "ax.set_ylabel('Accuracy')\n",
    "ax.set_title('Accuracy by training and dataset')\n",
    "ax.set_xticks(x)\n",
    "ax.set_xticklabels(labels)\n",
    "ax.legend()\n",
    "\n",
    "\n",
    "def autolabel(rects):\n",
    "    \"\"\"Attach a text label above each bar in *rects*, displaying its height.\"\"\"\n",
    "    for rect in rects:\n",
    "        height = rect.get_height()\n",
    "        ax.annotate('{}'.format(height),\n",
    "                    xy=(rect.get_x() + rect.get_width() / 2, height),\n",
    "                    xytext=(0, 3),  # 3 points vertical offset\n",
    "                    textcoords=\"offset points\",\n",
    "                    ha='center', va='bottom')\n",
    "\n",
    "\n",
    "autolabel(rects1)\n",
    "autolabel(rects2)\n",
    "\n",
    "fig.tight_layout()\n",
    "\n",
    "plt.show()"
   ]
  },
  {
   "cell_type": "code",
   "execution_count": 12,
   "metadata": {},
   "outputs": [],
   "source": [
    "train_loss = np.concatenate((train1.history['loss'], train2.history['loss'], train3.history['loss']))\n",
    "val_loss = np.concatenate((train1.history['val_loss'],train2.history['val_loss'],train3.history['val_loss']))\n",
    "train_acc = np.concatenate((train1.history['acc'], train2.history['acc'], train3.history['acc']))\n",
    "val_acc = np.concatenate((train1.history['val_acc'],train2.history['val_acc'],train3.history['val_acc']))"
   ]
  },
  {
   "cell_type": "code",
   "execution_count": 13,
   "metadata": {},
   "outputs": [
    {
     "data": {
      "image/png": "[encoded data removed]",
      "text/plain": [
       "<Figure size 432x288 with 1 Axes>"
      ]
     },
     "metadata": {
      "needs_background": "light"
     },
     "output_type": "display_data"
    }
   ],
   "source": [
    "import matplotlib.pyplot as plt\n",
    "import numpy as np\n",
    "\n",
    "plt.plot(train_loss)\n",
    "plt.title(\"Training Loss\")\n",
    "plt.xlabel(\"Epcohe\")\n",
    "plt.ylabel(\"Loss\")\n",
    "plt.show()"
   ]
  },
  {
   "cell_type": "code",
   "execution_count": 14,
   "metadata": {},
   "outputs": [
    {
     "data": {
      "image/png": "[encoded data removed]",
      "text/plain": [
       "<Figure size 432x288 with 1 Axes>"
      ]
     },
     "metadata": {
      "needs_background": "light"
     },
     "output_type": "display_data"
    }
   ],
   "source": [
    "plt.plot(train_acc)\n",
    "plt.title(\"Training Accuracy\")\n",
    "plt.xlabel(\"Epoche\")\n",
    "plt.ylabel(\"Accuracy\")\n",
    "plt.show()"
   ]
  },
  {
   "cell_type": "code",
   "execution_count": 15,
   "metadata": {},
   "outputs": [
    {
     "data": {
      "image/png": "[encoded data removed]",
      "text/plain": [
       "<Figure size 432x288 with 1 Axes>"
      ]
     },
     "metadata": {
      "needs_background": "light"
     },
     "output_type": "display_data"
    }
   ],
   "source": [
    "plt.plot(val_loss)\n",
    "plt.title(\"Validation Loss\")\n",
    "plt.xlabel(\"Epoche\")\n",
    "plt.ylabel(\"Loss\")\n",
    "plt.show()"
   ]
  },
  {
   "cell_type": "code",
   "execution_count": 16,
   "metadata": {},
   "outputs": [
    {
     "data": {
      "image/png": "[encoded data removed]",
      "text/plain": [
       "<Figure size 432x288 with 1 Axes>"
      ]
     },
     "metadata": {
      "needs_background": "light"
     },
     "output_type": "display_data"
    }
   ],
   "source": [
    "plt.plot(val_acc)\n",
    "plt.title(\"Validation Accuracy\")\n",
    "plt.xlabel(\"Epoche\")\n",
    "plt.ylabel(\"Accuracy\")\n",
    "plt.show()"
   ]
  },
  {
   "cell_type": "markdown",
   "metadata": {},
   "source": [
    "This is our result"
   ]
  },
  {
   "cell_type": "markdown",
   "metadata": {},
   "source": [
    "We use \n",
    "Dropout\n",
    "Batch Nomalization -> hat nicht gut funktioniert also wieder rausgemacht\n",
    "Validation Data? \n",
    "Convolution\n",
    "\n",
    "Epochen angepasst"
   ]
  },
  {
   "cell_type": "code",
   "execution_count": null,
   "metadata": {},
   "outputs": [],
   "source": []
  }
 ],
 "metadata": {
  "kernelspec": {
   "display_name": "Python 3",
   "language": "python",
   "name": "python3"
  },
  "language_info": {
   "codemirror_mode": {
    "name": "ipython",
    "version": 3
   },
   "file_extension": ".py",
   "mimetype": "text/x-python",
   "name": "python",
   "nbconvert_exporter": "python",
   "pygments_lexer": "ipython3",
   "version": "3.7.3"
  }
 },
 "nbformat": 4,
 "nbformat_minor": 2
}
